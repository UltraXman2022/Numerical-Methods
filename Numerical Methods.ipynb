{
 "cells": [
  {
   "cell_type": "markdown",
   "metadata": {},
   "source": [
    "Rusty Bargain used car sales service is developing an app to attract new customers. In that app, you can quickly find out the market value of your car. You have access to historical data: technical specifications, trim versions, and prices. You need to build the model to determine the value. \n",
    "\n",
    "Rusty Bargain is interested in:\n",
    "\n",
    "- the quality of the prediction;\n",
    "- the speed of the prediction;\n",
    "- the time required for training"
   ]
  },
  {
   "cell_type": "markdown",
   "metadata": {},
   "source": [
    "## Data preparation"
   ]
  },
  {
   "cell_type": "code",
   "execution_count": 1,
   "metadata": {},
   "outputs": [
    {
     "name": "stdout",
     "output_type": "stream",
     "text": [
      "Project libraries has been successfully been imported!\n"
     ]
    }
   ],
   "source": [
    "# Load libraries\n",
    "import pandas as pd\n",
    "import numpy as np\n",
    "from numpy import *\n",
    "import re\n",
    "from time import time\n",
    "\n",
    "# Load matplotlib\n",
    "import matplotlib\n",
    "import matplotlib.pyplot as plt\n",
    "%matplotlib inline\n",
    "\n",
    "# seaborn for visualization\n",
    "import seaborn as sns\n",
    "sns.set_style(\"darkgrid\")\n",
    "\n",
    "# Load sklearn\n",
    "from sklearn.linear_model import LinearRegression\n",
    "from sklearn.ensemble import RandomForestRegressor\n",
    "from sklearn.model_selection import train_test_split\n",
    "from sklearn.preprocessing import StandardScaler as ss\n",
    "from sklearn.metrics import mean_squared_error\n",
    "from sklearn.preprocessing import OrdinalEncoder\n",
    "\n",
    "# Load other ml models \n",
    "from catboost import CatBoostRegressor\n",
    "from lightgbm import LGBMRegressor, LGBMClassifier, Booster\n",
    "from xgboost import XGBRegressor\n",
    "\n",
    "#Remove warnings\n",
    "import sys\n",
    "import warnings\n",
    "if not sys.warnoptions:\n",
    "       warnings.simplefilter(\"ignore\")\n",
    "\n",
    "print('Project libraries has been successfully been imported!')"
   ]
  },
  {
   "cell_type": "code",
   "execution_count": 2,
   "metadata": {},
   "outputs": [
    {
     "name": "stdout",
     "output_type": "stream",
     "text": [
      "Data has been read correctly!\n"
     ]
    }
   ],
   "source": [
    "# read the data\n",
    "try:\n",
    "    rb = pd.read_csv('/datasets/car_data.csv')\n",
    "    \n",
    "except:\n",
    "    rb = pd.read_csv('car_data.csv')   \n",
    "    \n",
    "print('Data has been read correctly!')"
   ]
  },
  {
   "cell_type": "code",
   "execution_count": 3,
   "metadata": {},
   "outputs": [],
   "source": [
    "# Checking 0's\n",
    "def zero_check(df):\n",
    "    for i in df:\n",
    "        print(i,len(df[df[i]==0]))\n",
    "        \n",
    "# function to determine if columns in file have null values        \n",
    "def get_percent_of_na(df, num):\n",
    "    count = 0\n",
    "    df = df.copy()\n",
    "    s = (df.isna().sum() / df.shape[0])\n",
    "    for column, percent in zip(s.index, s.values):\n",
    "        num_of_nulls = df[column].isna().sum()\n",
    "        if num_of_nulls == 0:\n",
    "            continue\n",
    "        else:\n",
    "            count += 1\n",
    "        print('{} has {} nulls, which is {:.{}%} percent of Nulls'.format(column, num_of_nulls, percent, num))\n",
    "    if count != 0:\n",
    "        print(\"\\033[1m\" + 'There are {} columns with NA.'.format(count) + \"\\033[0m\")\n",
    "    else:\n",
    "        print()\n",
    "        print(\"\\033[1m\" + 'There are no columns with NA.' + \"\\033[0m\")       \n",
    "        \n",
    "# function to display general information about the dataset\n",
    "def general_info(df):\n",
    "    print(\"\\033[1m\" + \"\\033[0m\")\n",
    "    display(pd.concat([df.dtypes, df.count(),df.isna().sum(),df.isna().sum()/len(df)], keys=['type','count','na','na%'],\n",
    "                      axis=1))\n",
    "    print()\n",
    "    print(\"\\033[1m\" + 'Head:')  \n",
    "    display(df.head())\n",
    "    print()\n",
    "    print(\"\\033[1m\" + 'Tail:')\n",
    "    display(df.tail())\n",
    "    print()\n",
    "    print(\"\\033[1m\" + 'Info:')\n",
    "    print()\n",
    "    display(df.info())\n",
    "    print()\n",
    "    print(\"\\033[1m\" + 'Describe:')\n",
    "    print()\n",
    "    display(df.describe())\n",
    "    print()\n",
    "    print(\"\\033[1m\" + 'Describe include: all :')\n",
    "    print()\n",
    "    display(df.describe(include='all'))\n",
    "    print()\n",
    "    print(\"\\033[1m\" + 'nulls in the columns:')\n",
    "    print()\n",
    "    display(get_percent_of_na(df, 4))  # check this out\n",
    "    print()\n",
    "    print(\"\\033[1m\" + 'Zeros in the columns:') \n",
    "    print()\n",
    "    display(zero_check(df))\n",
    "    print()\n",
    "    print(\"\\033[1m\" + 'Shape:', df.shape)\n",
    "    print()\n",
    "    print()\n",
    "    print('Duplicated:',\"\\033[1m\" + 'We have {} duplicated rows\\n'.format(df.duplicated().sum()) + \"\\033[0m\")\n",
    "    print()\n",
    "    print(\"\\033[1m\" + 'Dtypes:')  \n",
    "    display(df.dtypes)\n",
    "    print()\n",
    "    print(\"\\033[1m\" + 'correlation:')  \n",
    "    display(df.corr())\n",
    "    print()"
   ]
  },
  {
   "cell_type": "code",
   "execution_count": 4,
   "metadata": {},
   "outputs": [
    {
     "name": "stdout",
     "output_type": "stream",
     "text": [
      "information about Our \"car_data\" dataset:\n",
      "\u001b[1m\u001b[0m\n"
     ]
    },
    {
     "data": {
      "text/html": [
       "<div>\n",
       "<style scoped>\n",
       "    .dataframe tbody tr th:only-of-type {\n",
       "        vertical-align: middle;\n",
       "    }\n",
       "\n",
       "    .dataframe tbody tr th {\n",
       "        vertical-align: top;\n",
       "    }\n",
       "\n",
       "    .dataframe thead th {\n",
       "        text-align: right;\n",
       "    }\n",
       "</style>\n",
       "<table border=\"1\" class=\"dataframe\">\n",
       "  <thead>\n",
       "    <tr style=\"text-align: right;\">\n",
       "      <th></th>\n",
       "      <th>type</th>\n",
       "      <th>count</th>\n",
       "      <th>na</th>\n",
       "      <th>na%</th>\n",
       "    </tr>\n",
       "  </thead>\n",
       "  <tbody>\n",
       "    <tr>\n",
       "      <th>DateCrawled</th>\n",
       "      <td>object</td>\n",
       "      <td>354369</td>\n",
       "      <td>0</td>\n",
       "      <td>0.000000</td>\n",
       "    </tr>\n",
       "    <tr>\n",
       "      <th>Price</th>\n",
       "      <td>int64</td>\n",
       "      <td>354369</td>\n",
       "      <td>0</td>\n",
       "      <td>0.000000</td>\n",
       "    </tr>\n",
       "    <tr>\n",
       "      <th>VehicleType</th>\n",
       "      <td>object</td>\n",
       "      <td>316879</td>\n",
       "      <td>37490</td>\n",
       "      <td>0.105794</td>\n",
       "    </tr>\n",
       "    <tr>\n",
       "      <th>RegistrationYear</th>\n",
       "      <td>int64</td>\n",
       "      <td>354369</td>\n",
       "      <td>0</td>\n",
       "      <td>0.000000</td>\n",
       "    </tr>\n",
       "    <tr>\n",
       "      <th>Gearbox</th>\n",
       "      <td>object</td>\n",
       "      <td>334536</td>\n",
       "      <td>19833</td>\n",
       "      <td>0.055967</td>\n",
       "    </tr>\n",
       "    <tr>\n",
       "      <th>Power</th>\n",
       "      <td>int64</td>\n",
       "      <td>354369</td>\n",
       "      <td>0</td>\n",
       "      <td>0.000000</td>\n",
       "    </tr>\n",
       "    <tr>\n",
       "      <th>Model</th>\n",
       "      <td>object</td>\n",
       "      <td>334664</td>\n",
       "      <td>19705</td>\n",
       "      <td>0.055606</td>\n",
       "    </tr>\n",
       "    <tr>\n",
       "      <th>Mileage</th>\n",
       "      <td>int64</td>\n",
       "      <td>354369</td>\n",
       "      <td>0</td>\n",
       "      <td>0.000000</td>\n",
       "    </tr>\n",
       "    <tr>\n",
       "      <th>RegistrationMonth</th>\n",
       "      <td>int64</td>\n",
       "      <td>354369</td>\n",
       "      <td>0</td>\n",
       "      <td>0.000000</td>\n",
       "    </tr>\n",
       "    <tr>\n",
       "      <th>FuelType</th>\n",
       "      <td>object</td>\n",
       "      <td>321474</td>\n",
       "      <td>32895</td>\n",
       "      <td>0.092827</td>\n",
       "    </tr>\n",
       "    <tr>\n",
       "      <th>Brand</th>\n",
       "      <td>object</td>\n",
       "      <td>354369</td>\n",
       "      <td>0</td>\n",
       "      <td>0.000000</td>\n",
       "    </tr>\n",
       "    <tr>\n",
       "      <th>NotRepaired</th>\n",
       "      <td>object</td>\n",
       "      <td>283215</td>\n",
       "      <td>71154</td>\n",
       "      <td>0.200791</td>\n",
       "    </tr>\n",
       "    <tr>\n",
       "      <th>DateCreated</th>\n",
       "      <td>object</td>\n",
       "      <td>354369</td>\n",
       "      <td>0</td>\n",
       "      <td>0.000000</td>\n",
       "    </tr>\n",
       "    <tr>\n",
       "      <th>NumberOfPictures</th>\n",
       "      <td>int64</td>\n",
       "      <td>354369</td>\n",
       "      <td>0</td>\n",
       "      <td>0.000000</td>\n",
       "    </tr>\n",
       "    <tr>\n",
       "      <th>PostalCode</th>\n",
       "      <td>int64</td>\n",
       "      <td>354369</td>\n",
       "      <td>0</td>\n",
       "      <td>0.000000</td>\n",
       "    </tr>\n",
       "    <tr>\n",
       "      <th>LastSeen</th>\n",
       "      <td>object</td>\n",
       "      <td>354369</td>\n",
       "      <td>0</td>\n",
       "      <td>0.000000</td>\n",
       "    </tr>\n",
       "  </tbody>\n",
       "</table>\n",
       "</div>"
      ],
      "text/plain": [
       "                     type   count     na       na%\n",
       "DateCrawled        object  354369      0  0.000000\n",
       "Price               int64  354369      0  0.000000\n",
       "VehicleType        object  316879  37490  0.105794\n",
       "RegistrationYear    int64  354369      0  0.000000\n",
       "Gearbox            object  334536  19833  0.055967\n",
       "Power               int64  354369      0  0.000000\n",
       "Model              object  334664  19705  0.055606\n",
       "Mileage             int64  354369      0  0.000000\n",
       "RegistrationMonth   int64  354369      0  0.000000\n",
       "FuelType           object  321474  32895  0.092827\n",
       "Brand              object  354369      0  0.000000\n",
       "NotRepaired        object  283215  71154  0.200791\n",
       "DateCreated        object  354369      0  0.000000\n",
       "NumberOfPictures    int64  354369      0  0.000000\n",
       "PostalCode          int64  354369      0  0.000000\n",
       "LastSeen           object  354369      0  0.000000"
      ]
     },
     "metadata": {},
     "output_type": "display_data"
    },
    {
     "name": "stdout",
     "output_type": "stream",
     "text": [
      "\n",
      "\u001b[1mHead:\n"
     ]
    },
    {
     "data": {
      "text/html": [
       "<div>\n",
       "<style scoped>\n",
       "    .dataframe tbody tr th:only-of-type {\n",
       "        vertical-align: middle;\n",
       "    }\n",
       "\n",
       "    .dataframe tbody tr th {\n",
       "        vertical-align: top;\n",
       "    }\n",
       "\n",
       "    .dataframe thead th {\n",
       "        text-align: right;\n",
       "    }\n",
       "</style>\n",
       "<table border=\"1\" class=\"dataframe\">\n",
       "  <thead>\n",
       "    <tr style=\"text-align: right;\">\n",
       "      <th></th>\n",
       "      <th>DateCrawled</th>\n",
       "      <th>Price</th>\n",
       "      <th>VehicleType</th>\n",
       "      <th>RegistrationYear</th>\n",
       "      <th>Gearbox</th>\n",
       "      <th>Power</th>\n",
       "      <th>Model</th>\n",
       "      <th>Mileage</th>\n",
       "      <th>RegistrationMonth</th>\n",
       "      <th>FuelType</th>\n",
       "      <th>Brand</th>\n",
       "      <th>NotRepaired</th>\n",
       "      <th>DateCreated</th>\n",
       "      <th>NumberOfPictures</th>\n",
       "      <th>PostalCode</th>\n",
       "      <th>LastSeen</th>\n",
       "    </tr>\n",
       "  </thead>\n",
       "  <tbody>\n",
       "    <tr>\n",
       "      <th>0</th>\n",
       "      <td>24/03/2016 11:52</td>\n",
       "      <td>480</td>\n",
       "      <td>NaN</td>\n",
       "      <td>1993</td>\n",
       "      <td>manual</td>\n",
       "      <td>0</td>\n",
       "      <td>golf</td>\n",
       "      <td>150000</td>\n",
       "      <td>0</td>\n",
       "      <td>petrol</td>\n",
       "      <td>volkswagen</td>\n",
       "      <td>NaN</td>\n",
       "      <td>24/03/2016 00:00</td>\n",
       "      <td>0</td>\n",
       "      <td>70435</td>\n",
       "      <td>07/04/2016 03:16</td>\n",
       "    </tr>\n",
       "    <tr>\n",
       "      <th>1</th>\n",
       "      <td>24/03/2016 10:58</td>\n",
       "      <td>18300</td>\n",
       "      <td>coupe</td>\n",
       "      <td>2011</td>\n",
       "      <td>manual</td>\n",
       "      <td>190</td>\n",
       "      <td>NaN</td>\n",
       "      <td>125000</td>\n",
       "      <td>5</td>\n",
       "      <td>gasoline</td>\n",
       "      <td>audi</td>\n",
       "      <td>yes</td>\n",
       "      <td>24/03/2016 00:00</td>\n",
       "      <td>0</td>\n",
       "      <td>66954</td>\n",
       "      <td>07/04/2016 01:46</td>\n",
       "    </tr>\n",
       "    <tr>\n",
       "      <th>2</th>\n",
       "      <td>14/03/2016 12:52</td>\n",
       "      <td>9800</td>\n",
       "      <td>suv</td>\n",
       "      <td>2004</td>\n",
       "      <td>auto</td>\n",
       "      <td>163</td>\n",
       "      <td>grand</td>\n",
       "      <td>125000</td>\n",
       "      <td>8</td>\n",
       "      <td>gasoline</td>\n",
       "      <td>jeep</td>\n",
       "      <td>NaN</td>\n",
       "      <td>14/03/2016 00:00</td>\n",
       "      <td>0</td>\n",
       "      <td>90480</td>\n",
       "      <td>05/04/2016 12:47</td>\n",
       "    </tr>\n",
       "    <tr>\n",
       "      <th>3</th>\n",
       "      <td>17/03/2016 16:54</td>\n",
       "      <td>1500</td>\n",
       "      <td>small</td>\n",
       "      <td>2001</td>\n",
       "      <td>manual</td>\n",
       "      <td>75</td>\n",
       "      <td>golf</td>\n",
       "      <td>150000</td>\n",
       "      <td>6</td>\n",
       "      <td>petrol</td>\n",
       "      <td>volkswagen</td>\n",
       "      <td>no</td>\n",
       "      <td>17/03/2016 00:00</td>\n",
       "      <td>0</td>\n",
       "      <td>91074</td>\n",
       "      <td>17/03/2016 17:40</td>\n",
       "    </tr>\n",
       "    <tr>\n",
       "      <th>4</th>\n",
       "      <td>31/03/2016 17:25</td>\n",
       "      <td>3600</td>\n",
       "      <td>small</td>\n",
       "      <td>2008</td>\n",
       "      <td>manual</td>\n",
       "      <td>69</td>\n",
       "      <td>fabia</td>\n",
       "      <td>90000</td>\n",
       "      <td>7</td>\n",
       "      <td>gasoline</td>\n",
       "      <td>skoda</td>\n",
       "      <td>no</td>\n",
       "      <td>31/03/2016 00:00</td>\n",
       "      <td>0</td>\n",
       "      <td>60437</td>\n",
       "      <td>06/04/2016 10:17</td>\n",
       "    </tr>\n",
       "  </tbody>\n",
       "</table>\n",
       "</div>"
      ],
      "text/plain": [
       "        DateCrawled  Price VehicleType  RegistrationYear Gearbox  Power  \\\n",
       "0  24/03/2016 11:52    480         NaN              1993  manual      0   \n",
       "1  24/03/2016 10:58  18300       coupe              2011  manual    190   \n",
       "2  14/03/2016 12:52   9800         suv              2004    auto    163   \n",
       "3  17/03/2016 16:54   1500       small              2001  manual     75   \n",
       "4  31/03/2016 17:25   3600       small              2008  manual     69   \n",
       "\n",
       "   Model  Mileage  RegistrationMonth  FuelType       Brand NotRepaired  \\\n",
       "0   golf   150000                  0    petrol  volkswagen         NaN   \n",
       "1    NaN   125000                  5  gasoline        audi         yes   \n",
       "2  grand   125000                  8  gasoline        jeep         NaN   \n",
       "3   golf   150000                  6    petrol  volkswagen          no   \n",
       "4  fabia    90000                  7  gasoline       skoda          no   \n",
       "\n",
       "        DateCreated  NumberOfPictures  PostalCode          LastSeen  \n",
       "0  24/03/2016 00:00                 0       70435  07/04/2016 03:16  \n",
       "1  24/03/2016 00:00                 0       66954  07/04/2016 01:46  \n",
       "2  14/03/2016 00:00                 0       90480  05/04/2016 12:47  \n",
       "3  17/03/2016 00:00                 0       91074  17/03/2016 17:40  \n",
       "4  31/03/2016 00:00                 0       60437  06/04/2016 10:17  "
      ]
     },
     "metadata": {},
     "output_type": "display_data"
    },
    {
     "name": "stdout",
     "output_type": "stream",
     "text": [
      "\n",
      "\u001b[1mTail:\n"
     ]
    },
    {
     "data": {
      "text/html": [
       "<div>\n",
       "<style scoped>\n",
       "    .dataframe tbody tr th:only-of-type {\n",
       "        vertical-align: middle;\n",
       "    }\n",
       "\n",
       "    .dataframe tbody tr th {\n",
       "        vertical-align: top;\n",
       "    }\n",
       "\n",
       "    .dataframe thead th {\n",
       "        text-align: right;\n",
       "    }\n",
       "</style>\n",
       "<table border=\"1\" class=\"dataframe\">\n",
       "  <thead>\n",
       "    <tr style=\"text-align: right;\">\n",
       "      <th></th>\n",
       "      <th>DateCrawled</th>\n",
       "      <th>Price</th>\n",
       "      <th>VehicleType</th>\n",
       "      <th>RegistrationYear</th>\n",
       "      <th>Gearbox</th>\n",
       "      <th>Power</th>\n",
       "      <th>Model</th>\n",
       "      <th>Mileage</th>\n",
       "      <th>RegistrationMonth</th>\n",
       "      <th>FuelType</th>\n",
       "      <th>Brand</th>\n",
       "      <th>NotRepaired</th>\n",
       "      <th>DateCreated</th>\n",
       "      <th>NumberOfPictures</th>\n",
       "      <th>PostalCode</th>\n",
       "      <th>LastSeen</th>\n",
       "    </tr>\n",
       "  </thead>\n",
       "  <tbody>\n",
       "    <tr>\n",
       "      <th>354364</th>\n",
       "      <td>21/03/2016 09:50</td>\n",
       "      <td>0</td>\n",
       "      <td>NaN</td>\n",
       "      <td>2005</td>\n",
       "      <td>manual</td>\n",
       "      <td>0</td>\n",
       "      <td>colt</td>\n",
       "      <td>150000</td>\n",
       "      <td>7</td>\n",
       "      <td>petrol</td>\n",
       "      <td>mitsubishi</td>\n",
       "      <td>yes</td>\n",
       "      <td>21/03/2016 00:00</td>\n",
       "      <td>0</td>\n",
       "      <td>2694</td>\n",
       "      <td>21/03/2016 10:42</td>\n",
       "    </tr>\n",
       "    <tr>\n",
       "      <th>354365</th>\n",
       "      <td>14/03/2016 17:48</td>\n",
       "      <td>2200</td>\n",
       "      <td>NaN</td>\n",
       "      <td>2005</td>\n",
       "      <td>NaN</td>\n",
       "      <td>0</td>\n",
       "      <td>NaN</td>\n",
       "      <td>20000</td>\n",
       "      <td>1</td>\n",
       "      <td>NaN</td>\n",
       "      <td>sonstige_autos</td>\n",
       "      <td>NaN</td>\n",
       "      <td>14/03/2016 00:00</td>\n",
       "      <td>0</td>\n",
       "      <td>39576</td>\n",
       "      <td>06/04/2016 00:46</td>\n",
       "    </tr>\n",
       "    <tr>\n",
       "      <th>354366</th>\n",
       "      <td>05/03/2016 19:56</td>\n",
       "      <td>1199</td>\n",
       "      <td>convertible</td>\n",
       "      <td>2000</td>\n",
       "      <td>auto</td>\n",
       "      <td>101</td>\n",
       "      <td>fortwo</td>\n",
       "      <td>125000</td>\n",
       "      <td>3</td>\n",
       "      <td>petrol</td>\n",
       "      <td>smart</td>\n",
       "      <td>no</td>\n",
       "      <td>05/03/2016 00:00</td>\n",
       "      <td>0</td>\n",
       "      <td>26135</td>\n",
       "      <td>11/03/2016 18:17</td>\n",
       "    </tr>\n",
       "    <tr>\n",
       "      <th>354367</th>\n",
       "      <td>19/03/2016 18:57</td>\n",
       "      <td>9200</td>\n",
       "      <td>bus</td>\n",
       "      <td>1996</td>\n",
       "      <td>manual</td>\n",
       "      <td>102</td>\n",
       "      <td>transporter</td>\n",
       "      <td>150000</td>\n",
       "      <td>3</td>\n",
       "      <td>gasoline</td>\n",
       "      <td>volkswagen</td>\n",
       "      <td>no</td>\n",
       "      <td>19/03/2016 00:00</td>\n",
       "      <td>0</td>\n",
       "      <td>87439</td>\n",
       "      <td>07/04/2016 07:15</td>\n",
       "    </tr>\n",
       "    <tr>\n",
       "      <th>354368</th>\n",
       "      <td>20/03/2016 19:41</td>\n",
       "      <td>3400</td>\n",
       "      <td>wagon</td>\n",
       "      <td>2002</td>\n",
       "      <td>manual</td>\n",
       "      <td>100</td>\n",
       "      <td>golf</td>\n",
       "      <td>150000</td>\n",
       "      <td>6</td>\n",
       "      <td>gasoline</td>\n",
       "      <td>volkswagen</td>\n",
       "      <td>NaN</td>\n",
       "      <td>20/03/2016 00:00</td>\n",
       "      <td>0</td>\n",
       "      <td>40764</td>\n",
       "      <td>24/03/2016 12:45</td>\n",
       "    </tr>\n",
       "  </tbody>\n",
       "</table>\n",
       "</div>"
      ],
      "text/plain": [
       "             DateCrawled  Price  VehicleType  RegistrationYear Gearbox  Power  \\\n",
       "354364  21/03/2016 09:50      0          NaN              2005  manual      0   \n",
       "354365  14/03/2016 17:48   2200          NaN              2005     NaN      0   \n",
       "354366  05/03/2016 19:56   1199  convertible              2000    auto    101   \n",
       "354367  19/03/2016 18:57   9200          bus              1996  manual    102   \n",
       "354368  20/03/2016 19:41   3400        wagon              2002  manual    100   \n",
       "\n",
       "              Model  Mileage  RegistrationMonth  FuelType           Brand  \\\n",
       "354364         colt   150000                  7    petrol      mitsubishi   \n",
       "354365          NaN    20000                  1       NaN  sonstige_autos   \n",
       "354366       fortwo   125000                  3    petrol           smart   \n",
       "354367  transporter   150000                  3  gasoline      volkswagen   \n",
       "354368         golf   150000                  6  gasoline      volkswagen   \n",
       "\n",
       "       NotRepaired       DateCreated  NumberOfPictures  PostalCode  \\\n",
       "354364         yes  21/03/2016 00:00                 0        2694   \n",
       "354365         NaN  14/03/2016 00:00                 0       39576   \n",
       "354366          no  05/03/2016 00:00                 0       26135   \n",
       "354367          no  19/03/2016 00:00                 0       87439   \n",
       "354368         NaN  20/03/2016 00:00                 0       40764   \n",
       "\n",
       "                LastSeen  \n",
       "354364  21/03/2016 10:42  \n",
       "354365  06/04/2016 00:46  \n",
       "354366  11/03/2016 18:17  \n",
       "354367  07/04/2016 07:15  \n",
       "354368  24/03/2016 12:45  "
      ]
     },
     "metadata": {},
     "output_type": "display_data"
    },
    {
     "name": "stdout",
     "output_type": "stream",
     "text": [
      "\n",
      "\u001b[1mInfo:\n",
      "\n",
      "<class 'pandas.core.frame.DataFrame'>\n",
      "RangeIndex: 354369 entries, 0 to 354368\n",
      "Data columns (total 16 columns):\n",
      " #   Column             Non-Null Count   Dtype \n",
      "---  ------             --------------   ----- \n",
      " 0   DateCrawled        354369 non-null  object\n",
      " 1   Price              354369 non-null  int64 \n",
      " 2   VehicleType        316879 non-null  object\n",
      " 3   RegistrationYear   354369 non-null  int64 \n",
      " 4   Gearbox            334536 non-null  object\n",
      " 5   Power              354369 non-null  int64 \n",
      " 6   Model              334664 non-null  object\n",
      " 7   Mileage            354369 non-null  int64 \n",
      " 8   RegistrationMonth  354369 non-null  int64 \n",
      " 9   FuelType           321474 non-null  object\n",
      " 10  Brand              354369 non-null  object\n",
      " 11  NotRepaired        283215 non-null  object\n",
      " 12  DateCreated        354369 non-null  object\n",
      " 13  NumberOfPictures   354369 non-null  int64 \n",
      " 14  PostalCode         354369 non-null  int64 \n",
      " 15  LastSeen           354369 non-null  object\n",
      "dtypes: int64(7), object(9)\n",
      "memory usage: 43.3+ MB\n"
     ]
    },
    {
     "data": {
      "text/plain": [
       "None"
      ]
     },
     "metadata": {},
     "output_type": "display_data"
    },
    {
     "name": "stdout",
     "output_type": "stream",
     "text": [
      "\n",
      "\u001b[1mDescribe:\n",
      "\n"
     ]
    },
    {
     "data": {
      "text/html": [
       "<div>\n",
       "<style scoped>\n",
       "    .dataframe tbody tr th:only-of-type {\n",
       "        vertical-align: middle;\n",
       "    }\n",
       "\n",
       "    .dataframe tbody tr th {\n",
       "        vertical-align: top;\n",
       "    }\n",
       "\n",
       "    .dataframe thead th {\n",
       "        text-align: right;\n",
       "    }\n",
       "</style>\n",
       "<table border=\"1\" class=\"dataframe\">\n",
       "  <thead>\n",
       "    <tr style=\"text-align: right;\">\n",
       "      <th></th>\n",
       "      <th>Price</th>\n",
       "      <th>RegistrationYear</th>\n",
       "      <th>Power</th>\n",
       "      <th>Mileage</th>\n",
       "      <th>RegistrationMonth</th>\n",
       "      <th>NumberOfPictures</th>\n",
       "      <th>PostalCode</th>\n",
       "    </tr>\n",
       "  </thead>\n",
       "  <tbody>\n",
       "    <tr>\n",
       "      <th>count</th>\n",
       "      <td>354369.000000</td>\n",
       "      <td>354369.000000</td>\n",
       "      <td>354369.000000</td>\n",
       "      <td>354369.000000</td>\n",
       "      <td>354369.000000</td>\n",
       "      <td>354369.0</td>\n",
       "      <td>354369.000000</td>\n",
       "    </tr>\n",
       "    <tr>\n",
       "      <th>mean</th>\n",
       "      <td>4416.656776</td>\n",
       "      <td>2004.234448</td>\n",
       "      <td>110.094337</td>\n",
       "      <td>128211.172535</td>\n",
       "      <td>5.714645</td>\n",
       "      <td>0.0</td>\n",
       "      <td>50508.689087</td>\n",
       "    </tr>\n",
       "    <tr>\n",
       "      <th>std</th>\n",
       "      <td>4514.158514</td>\n",
       "      <td>90.227958</td>\n",
       "      <td>189.850405</td>\n",
       "      <td>37905.341530</td>\n",
       "      <td>3.726421</td>\n",
       "      <td>0.0</td>\n",
       "      <td>25783.096248</td>\n",
       "    </tr>\n",
       "    <tr>\n",
       "      <th>min</th>\n",
       "      <td>0.000000</td>\n",
       "      <td>1000.000000</td>\n",
       "      <td>0.000000</td>\n",
       "      <td>5000.000000</td>\n",
       "      <td>0.000000</td>\n",
       "      <td>0.0</td>\n",
       "      <td>1067.000000</td>\n",
       "    </tr>\n",
       "    <tr>\n",
       "      <th>25%</th>\n",
       "      <td>1050.000000</td>\n",
       "      <td>1999.000000</td>\n",
       "      <td>69.000000</td>\n",
       "      <td>125000.000000</td>\n",
       "      <td>3.000000</td>\n",
       "      <td>0.0</td>\n",
       "      <td>30165.000000</td>\n",
       "    </tr>\n",
       "    <tr>\n",
       "      <th>50%</th>\n",
       "      <td>2700.000000</td>\n",
       "      <td>2003.000000</td>\n",
       "      <td>105.000000</td>\n",
       "      <td>150000.000000</td>\n",
       "      <td>6.000000</td>\n",
       "      <td>0.0</td>\n",
       "      <td>49413.000000</td>\n",
       "    </tr>\n",
       "    <tr>\n",
       "      <th>75%</th>\n",
       "      <td>6400.000000</td>\n",
       "      <td>2008.000000</td>\n",
       "      <td>143.000000</td>\n",
       "      <td>150000.000000</td>\n",
       "      <td>9.000000</td>\n",
       "      <td>0.0</td>\n",
       "      <td>71083.000000</td>\n",
       "    </tr>\n",
       "    <tr>\n",
       "      <th>max</th>\n",
       "      <td>20000.000000</td>\n",
       "      <td>9999.000000</td>\n",
       "      <td>20000.000000</td>\n",
       "      <td>150000.000000</td>\n",
       "      <td>12.000000</td>\n",
       "      <td>0.0</td>\n",
       "      <td>99998.000000</td>\n",
       "    </tr>\n",
       "  </tbody>\n",
       "</table>\n",
       "</div>"
      ],
      "text/plain": [
       "               Price  RegistrationYear          Power        Mileage  \\\n",
       "count  354369.000000     354369.000000  354369.000000  354369.000000   \n",
       "mean     4416.656776       2004.234448     110.094337  128211.172535   \n",
       "std      4514.158514         90.227958     189.850405   37905.341530   \n",
       "min         0.000000       1000.000000       0.000000    5000.000000   \n",
       "25%      1050.000000       1999.000000      69.000000  125000.000000   \n",
       "50%      2700.000000       2003.000000     105.000000  150000.000000   \n",
       "75%      6400.000000       2008.000000     143.000000  150000.000000   \n",
       "max     20000.000000       9999.000000   20000.000000  150000.000000   \n",
       "\n",
       "       RegistrationMonth  NumberOfPictures     PostalCode  \n",
       "count      354369.000000          354369.0  354369.000000  \n",
       "mean            5.714645               0.0   50508.689087  \n",
       "std             3.726421               0.0   25783.096248  \n",
       "min             0.000000               0.0    1067.000000  \n",
       "25%             3.000000               0.0   30165.000000  \n",
       "50%             6.000000               0.0   49413.000000  \n",
       "75%             9.000000               0.0   71083.000000  \n",
       "max            12.000000               0.0   99998.000000  "
      ]
     },
     "metadata": {},
     "output_type": "display_data"
    },
    {
     "name": "stdout",
     "output_type": "stream",
     "text": [
      "\n",
      "\u001b[1mDescribe include: all :\n",
      "\n"
     ]
    },
    {
     "data": {
      "text/html": [
       "<div>\n",
       "<style scoped>\n",
       "    .dataframe tbody tr th:only-of-type {\n",
       "        vertical-align: middle;\n",
       "    }\n",
       "\n",
       "    .dataframe tbody tr th {\n",
       "        vertical-align: top;\n",
       "    }\n",
       "\n",
       "    .dataframe thead th {\n",
       "        text-align: right;\n",
       "    }\n",
       "</style>\n",
       "<table border=\"1\" class=\"dataframe\">\n",
       "  <thead>\n",
       "    <tr style=\"text-align: right;\">\n",
       "      <th></th>\n",
       "      <th>DateCrawled</th>\n",
       "      <th>Price</th>\n",
       "      <th>VehicleType</th>\n",
       "      <th>RegistrationYear</th>\n",
       "      <th>Gearbox</th>\n",
       "      <th>Power</th>\n",
       "      <th>Model</th>\n",
       "      <th>Mileage</th>\n",
       "      <th>RegistrationMonth</th>\n",
       "      <th>FuelType</th>\n",
       "      <th>Brand</th>\n",
       "      <th>NotRepaired</th>\n",
       "      <th>DateCreated</th>\n",
       "      <th>NumberOfPictures</th>\n",
       "      <th>PostalCode</th>\n",
       "      <th>LastSeen</th>\n",
       "    </tr>\n",
       "  </thead>\n",
       "  <tbody>\n",
       "    <tr>\n",
       "      <th>count</th>\n",
       "      <td>354369</td>\n",
       "      <td>354369.000000</td>\n",
       "      <td>316879</td>\n",
       "      <td>354369.000000</td>\n",
       "      <td>334536</td>\n",
       "      <td>354369.000000</td>\n",
       "      <td>334664</td>\n",
       "      <td>354369.000000</td>\n",
       "      <td>354369.000000</td>\n",
       "      <td>321474</td>\n",
       "      <td>354369</td>\n",
       "      <td>283215</td>\n",
       "      <td>354369</td>\n",
       "      <td>354369.0</td>\n",
       "      <td>354369.000000</td>\n",
       "      <td>354369</td>\n",
       "    </tr>\n",
       "    <tr>\n",
       "      <th>unique</th>\n",
       "      <td>15470</td>\n",
       "      <td>NaN</td>\n",
       "      <td>8</td>\n",
       "      <td>NaN</td>\n",
       "      <td>2</td>\n",
       "      <td>NaN</td>\n",
       "      <td>250</td>\n",
       "      <td>NaN</td>\n",
       "      <td>NaN</td>\n",
       "      <td>7</td>\n",
       "      <td>40</td>\n",
       "      <td>2</td>\n",
       "      <td>109</td>\n",
       "      <td>NaN</td>\n",
       "      <td>NaN</td>\n",
       "      <td>18592</td>\n",
       "    </tr>\n",
       "    <tr>\n",
       "      <th>top</th>\n",
       "      <td>05/03/2016 14:25</td>\n",
       "      <td>NaN</td>\n",
       "      <td>sedan</td>\n",
       "      <td>NaN</td>\n",
       "      <td>manual</td>\n",
       "      <td>NaN</td>\n",
       "      <td>golf</td>\n",
       "      <td>NaN</td>\n",
       "      <td>NaN</td>\n",
       "      <td>petrol</td>\n",
       "      <td>volkswagen</td>\n",
       "      <td>no</td>\n",
       "      <td>03/04/2016 00:00</td>\n",
       "      <td>NaN</td>\n",
       "      <td>NaN</td>\n",
       "      <td>07/04/2016 07:16</td>\n",
       "    </tr>\n",
       "    <tr>\n",
       "      <th>freq</th>\n",
       "      <td>66</td>\n",
       "      <td>NaN</td>\n",
       "      <td>91457</td>\n",
       "      <td>NaN</td>\n",
       "      <td>268251</td>\n",
       "      <td>NaN</td>\n",
       "      <td>29232</td>\n",
       "      <td>NaN</td>\n",
       "      <td>NaN</td>\n",
       "      <td>216352</td>\n",
       "      <td>77013</td>\n",
       "      <td>247161</td>\n",
       "      <td>13719</td>\n",
       "      <td>NaN</td>\n",
       "      <td>NaN</td>\n",
       "      <td>654</td>\n",
       "    </tr>\n",
       "    <tr>\n",
       "      <th>mean</th>\n",
       "      <td>NaN</td>\n",
       "      <td>4416.656776</td>\n",
       "      <td>NaN</td>\n",
       "      <td>2004.234448</td>\n",
       "      <td>NaN</td>\n",
       "      <td>110.094337</td>\n",
       "      <td>NaN</td>\n",
       "      <td>128211.172535</td>\n",
       "      <td>5.714645</td>\n",
       "      <td>NaN</td>\n",
       "      <td>NaN</td>\n",
       "      <td>NaN</td>\n",
       "      <td>NaN</td>\n",
       "      <td>0.0</td>\n",
       "      <td>50508.689087</td>\n",
       "      <td>NaN</td>\n",
       "    </tr>\n",
       "    <tr>\n",
       "      <th>std</th>\n",
       "      <td>NaN</td>\n",
       "      <td>4514.158514</td>\n",
       "      <td>NaN</td>\n",
       "      <td>90.227958</td>\n",
       "      <td>NaN</td>\n",
       "      <td>189.850405</td>\n",
       "      <td>NaN</td>\n",
       "      <td>37905.341530</td>\n",
       "      <td>3.726421</td>\n",
       "      <td>NaN</td>\n",
       "      <td>NaN</td>\n",
       "      <td>NaN</td>\n",
       "      <td>NaN</td>\n",
       "      <td>0.0</td>\n",
       "      <td>25783.096248</td>\n",
       "      <td>NaN</td>\n",
       "    </tr>\n",
       "    <tr>\n",
       "      <th>min</th>\n",
       "      <td>NaN</td>\n",
       "      <td>0.000000</td>\n",
       "      <td>NaN</td>\n",
       "      <td>1000.000000</td>\n",
       "      <td>NaN</td>\n",
       "      <td>0.000000</td>\n",
       "      <td>NaN</td>\n",
       "      <td>5000.000000</td>\n",
       "      <td>0.000000</td>\n",
       "      <td>NaN</td>\n",
       "      <td>NaN</td>\n",
       "      <td>NaN</td>\n",
       "      <td>NaN</td>\n",
       "      <td>0.0</td>\n",
       "      <td>1067.000000</td>\n",
       "      <td>NaN</td>\n",
       "    </tr>\n",
       "    <tr>\n",
       "      <th>25%</th>\n",
       "      <td>NaN</td>\n",
       "      <td>1050.000000</td>\n",
       "      <td>NaN</td>\n",
       "      <td>1999.000000</td>\n",
       "      <td>NaN</td>\n",
       "      <td>69.000000</td>\n",
       "      <td>NaN</td>\n",
       "      <td>125000.000000</td>\n",
       "      <td>3.000000</td>\n",
       "      <td>NaN</td>\n",
       "      <td>NaN</td>\n",
       "      <td>NaN</td>\n",
       "      <td>NaN</td>\n",
       "      <td>0.0</td>\n",
       "      <td>30165.000000</td>\n",
       "      <td>NaN</td>\n",
       "    </tr>\n",
       "    <tr>\n",
       "      <th>50%</th>\n",
       "      <td>NaN</td>\n",
       "      <td>2700.000000</td>\n",
       "      <td>NaN</td>\n",
       "      <td>2003.000000</td>\n",
       "      <td>NaN</td>\n",
       "      <td>105.000000</td>\n",
       "      <td>NaN</td>\n",
       "      <td>150000.000000</td>\n",
       "      <td>6.000000</td>\n",
       "      <td>NaN</td>\n",
       "      <td>NaN</td>\n",
       "      <td>NaN</td>\n",
       "      <td>NaN</td>\n",
       "      <td>0.0</td>\n",
       "      <td>49413.000000</td>\n",
       "      <td>NaN</td>\n",
       "    </tr>\n",
       "    <tr>\n",
       "      <th>75%</th>\n",
       "      <td>NaN</td>\n",
       "      <td>6400.000000</td>\n",
       "      <td>NaN</td>\n",
       "      <td>2008.000000</td>\n",
       "      <td>NaN</td>\n",
       "      <td>143.000000</td>\n",
       "      <td>NaN</td>\n",
       "      <td>150000.000000</td>\n",
       "      <td>9.000000</td>\n",
       "      <td>NaN</td>\n",
       "      <td>NaN</td>\n",
       "      <td>NaN</td>\n",
       "      <td>NaN</td>\n",
       "      <td>0.0</td>\n",
       "      <td>71083.000000</td>\n",
       "      <td>NaN</td>\n",
       "    </tr>\n",
       "    <tr>\n",
       "      <th>max</th>\n",
       "      <td>NaN</td>\n",
       "      <td>20000.000000</td>\n",
       "      <td>NaN</td>\n",
       "      <td>9999.000000</td>\n",
       "      <td>NaN</td>\n",
       "      <td>20000.000000</td>\n",
       "      <td>NaN</td>\n",
       "      <td>150000.000000</td>\n",
       "      <td>12.000000</td>\n",
       "      <td>NaN</td>\n",
       "      <td>NaN</td>\n",
       "      <td>NaN</td>\n",
       "      <td>NaN</td>\n",
       "      <td>0.0</td>\n",
       "      <td>99998.000000</td>\n",
       "      <td>NaN</td>\n",
       "    </tr>\n",
       "  </tbody>\n",
       "</table>\n",
       "</div>"
      ],
      "text/plain": [
       "             DateCrawled          Price VehicleType  RegistrationYear Gearbox  \\\n",
       "count             354369  354369.000000      316879     354369.000000  334536   \n",
       "unique             15470            NaN           8               NaN       2   \n",
       "top     05/03/2016 14:25            NaN       sedan               NaN  manual   \n",
       "freq                  66            NaN       91457               NaN  268251   \n",
       "mean                 NaN    4416.656776         NaN       2004.234448     NaN   \n",
       "std                  NaN    4514.158514         NaN         90.227958     NaN   \n",
       "min                  NaN       0.000000         NaN       1000.000000     NaN   \n",
       "25%                  NaN    1050.000000         NaN       1999.000000     NaN   \n",
       "50%                  NaN    2700.000000         NaN       2003.000000     NaN   \n",
       "75%                  NaN    6400.000000         NaN       2008.000000     NaN   \n",
       "max                  NaN   20000.000000         NaN       9999.000000     NaN   \n",
       "\n",
       "                Power   Model        Mileage  RegistrationMonth FuelType  \\\n",
       "count   354369.000000  334664  354369.000000      354369.000000   321474   \n",
       "unique            NaN     250            NaN                NaN        7   \n",
       "top               NaN    golf            NaN                NaN   petrol   \n",
       "freq              NaN   29232            NaN                NaN   216352   \n",
       "mean       110.094337     NaN  128211.172535           5.714645      NaN   \n",
       "std        189.850405     NaN   37905.341530           3.726421      NaN   \n",
       "min          0.000000     NaN    5000.000000           0.000000      NaN   \n",
       "25%         69.000000     NaN  125000.000000           3.000000      NaN   \n",
       "50%        105.000000     NaN  150000.000000           6.000000      NaN   \n",
       "75%        143.000000     NaN  150000.000000           9.000000      NaN   \n",
       "max      20000.000000     NaN  150000.000000          12.000000      NaN   \n",
       "\n",
       "             Brand NotRepaired       DateCreated  NumberOfPictures  \\\n",
       "count       354369      283215            354369          354369.0   \n",
       "unique          40           2               109               NaN   \n",
       "top     volkswagen          no  03/04/2016 00:00               NaN   \n",
       "freq         77013      247161             13719               NaN   \n",
       "mean           NaN         NaN               NaN               0.0   \n",
       "std            NaN         NaN               NaN               0.0   \n",
       "min            NaN         NaN               NaN               0.0   \n",
       "25%            NaN         NaN               NaN               0.0   \n",
       "50%            NaN         NaN               NaN               0.0   \n",
       "75%            NaN         NaN               NaN               0.0   \n",
       "max            NaN         NaN               NaN               0.0   \n",
       "\n",
       "           PostalCode          LastSeen  \n",
       "count   354369.000000            354369  \n",
       "unique            NaN             18592  \n",
       "top               NaN  07/04/2016 07:16  \n",
       "freq              NaN               654  \n",
       "mean     50508.689087               NaN  \n",
       "std      25783.096248               NaN  \n",
       "min       1067.000000               NaN  \n",
       "25%      30165.000000               NaN  \n",
       "50%      49413.000000               NaN  \n",
       "75%      71083.000000               NaN  \n",
       "max      99998.000000               NaN  "
      ]
     },
     "metadata": {},
     "output_type": "display_data"
    },
    {
     "name": "stdout",
     "output_type": "stream",
     "text": [
      "\n",
      "\u001b[1mnulls in the columns:\n",
      "\n",
      "VehicleType has 37490 nulls, which is 10.5794% percent of Nulls\n",
      "Gearbox has 19833 nulls, which is 5.5967% percent of Nulls\n",
      "Model has 19705 nulls, which is 5.5606% percent of Nulls\n",
      "FuelType has 32895 nulls, which is 9.2827% percent of Nulls\n",
      "NotRepaired has 71154 nulls, which is 20.0791% percent of Nulls\n",
      "\u001b[1mThere are 5 columns with NA.\u001b[0m\n"
     ]
    },
    {
     "data": {
      "text/plain": [
       "None"
      ]
     },
     "metadata": {},
     "output_type": "display_data"
    },
    {
     "name": "stdout",
     "output_type": "stream",
     "text": [
      "\n",
      "\u001b[1mZeros in the columns:\n",
      "\n",
      "DateCrawled 0\n",
      "Price 10772\n",
      "VehicleType 0\n",
      "RegistrationYear 0\n",
      "Gearbox 0\n",
      "Power 40225\n",
      "Model 0\n",
      "Mileage 0\n",
      "RegistrationMonth 37352\n",
      "FuelType 0\n",
      "Brand 0\n",
      "NotRepaired 0\n",
      "DateCreated 0\n",
      "NumberOfPictures 354369\n",
      "PostalCode 0\n",
      "LastSeen 0\n"
     ]
    },
    {
     "data": {
      "text/plain": [
       "None"
      ]
     },
     "metadata": {},
     "output_type": "display_data"
    },
    {
     "name": "stdout",
     "output_type": "stream",
     "text": [
      "\n",
      "\u001b[1mShape: (354369, 16)\n",
      "\n",
      "\n",
      "Duplicated: \u001b[1mWe have 262 duplicated rows\n",
      "\u001b[0m\n",
      "\n",
      "\u001b[1mDtypes:\n"
     ]
    },
    {
     "data": {
      "text/plain": [
       "DateCrawled          object\n",
       "Price                 int64\n",
       "VehicleType          object\n",
       "RegistrationYear      int64\n",
       "Gearbox              object\n",
       "Power                 int64\n",
       "Model                object\n",
       "Mileage               int64\n",
       "RegistrationMonth     int64\n",
       "FuelType             object\n",
       "Brand                object\n",
       "NotRepaired          object\n",
       "DateCreated          object\n",
       "NumberOfPictures      int64\n",
       "PostalCode            int64\n",
       "LastSeen             object\n",
       "dtype: object"
      ]
     },
     "metadata": {},
     "output_type": "display_data"
    },
    {
     "name": "stdout",
     "output_type": "stream",
     "text": [
      "\n",
      "\u001b[1mcorrelation:\n"
     ]
    },
    {
     "data": {
      "text/html": [
       "<div>\n",
       "<style scoped>\n",
       "    .dataframe tbody tr th:only-of-type {\n",
       "        vertical-align: middle;\n",
       "    }\n",
       "\n",
       "    .dataframe tbody tr th {\n",
       "        vertical-align: top;\n",
       "    }\n",
       "\n",
       "    .dataframe thead th {\n",
       "        text-align: right;\n",
       "    }\n",
       "</style>\n",
       "<table border=\"1\" class=\"dataframe\">\n",
       "  <thead>\n",
       "    <tr style=\"text-align: right;\">\n",
       "      <th></th>\n",
       "      <th>Price</th>\n",
       "      <th>RegistrationYear</th>\n",
       "      <th>Power</th>\n",
       "      <th>Mileage</th>\n",
       "      <th>RegistrationMonth</th>\n",
       "      <th>NumberOfPictures</th>\n",
       "      <th>PostalCode</th>\n",
       "    </tr>\n",
       "  </thead>\n",
       "  <tbody>\n",
       "    <tr>\n",
       "      <th>Price</th>\n",
       "      <td>1.000000</td>\n",
       "      <td>0.026916</td>\n",
       "      <td>0.158872</td>\n",
       "      <td>-0.333199</td>\n",
       "      <td>0.110581</td>\n",
       "      <td>NaN</td>\n",
       "      <td>0.076055</td>\n",
       "    </tr>\n",
       "    <tr>\n",
       "      <th>RegistrationYear</th>\n",
       "      <td>0.026916</td>\n",
       "      <td>1.000000</td>\n",
       "      <td>-0.000828</td>\n",
       "      <td>-0.053447</td>\n",
       "      <td>-0.011619</td>\n",
       "      <td>NaN</td>\n",
       "      <td>-0.003459</td>\n",
       "    </tr>\n",
       "    <tr>\n",
       "      <th>Power</th>\n",
       "      <td>0.158872</td>\n",
       "      <td>-0.000828</td>\n",
       "      <td>1.000000</td>\n",
       "      <td>0.024002</td>\n",
       "      <td>0.043380</td>\n",
       "      <td>NaN</td>\n",
       "      <td>0.021665</td>\n",
       "    </tr>\n",
       "    <tr>\n",
       "      <th>Mileage</th>\n",
       "      <td>-0.333199</td>\n",
       "      <td>-0.053447</td>\n",
       "      <td>0.024002</td>\n",
       "      <td>1.000000</td>\n",
       "      <td>0.009571</td>\n",
       "      <td>NaN</td>\n",
       "      <td>-0.007698</td>\n",
       "    </tr>\n",
       "    <tr>\n",
       "      <th>RegistrationMonth</th>\n",
       "      <td>0.110581</td>\n",
       "      <td>-0.011619</td>\n",
       "      <td>0.043380</td>\n",
       "      <td>0.009571</td>\n",
       "      <td>1.000000</td>\n",
       "      <td>NaN</td>\n",
       "      <td>0.013995</td>\n",
       "    </tr>\n",
       "    <tr>\n",
       "      <th>NumberOfPictures</th>\n",
       "      <td>NaN</td>\n",
       "      <td>NaN</td>\n",
       "      <td>NaN</td>\n",
       "      <td>NaN</td>\n",
       "      <td>NaN</td>\n",
       "      <td>NaN</td>\n",
       "      <td>NaN</td>\n",
       "    </tr>\n",
       "    <tr>\n",
       "      <th>PostalCode</th>\n",
       "      <td>0.076055</td>\n",
       "      <td>-0.003459</td>\n",
       "      <td>0.021665</td>\n",
       "      <td>-0.007698</td>\n",
       "      <td>0.013995</td>\n",
       "      <td>NaN</td>\n",
       "      <td>1.000000</td>\n",
       "    </tr>\n",
       "  </tbody>\n",
       "</table>\n",
       "</div>"
      ],
      "text/plain": [
       "                      Price  RegistrationYear     Power   Mileage  \\\n",
       "Price              1.000000          0.026916  0.158872 -0.333199   \n",
       "RegistrationYear   0.026916          1.000000 -0.000828 -0.053447   \n",
       "Power              0.158872         -0.000828  1.000000  0.024002   \n",
       "Mileage           -0.333199         -0.053447  0.024002  1.000000   \n",
       "RegistrationMonth  0.110581         -0.011619  0.043380  0.009571   \n",
       "NumberOfPictures        NaN               NaN       NaN       NaN   \n",
       "PostalCode         0.076055         -0.003459  0.021665 -0.007698   \n",
       "\n",
       "                   RegistrationMonth  NumberOfPictures  PostalCode  \n",
       "Price                       0.110581               NaN    0.076055  \n",
       "RegistrationYear           -0.011619               NaN   -0.003459  \n",
       "Power                       0.043380               NaN    0.021665  \n",
       "Mileage                     0.009571               NaN   -0.007698  \n",
       "RegistrationMonth           1.000000               NaN    0.013995  \n",
       "NumberOfPictures                 NaN               NaN         NaN  \n",
       "PostalCode                  0.013995               NaN    1.000000  "
      ]
     },
     "metadata": {},
     "output_type": "display_data"
    },
    {
     "name": "stdout",
     "output_type": "stream",
     "text": [
      "\n",
      "\n"
     ]
    }
   ],
   "source": [
    "#print our info data\n",
    "print('information about Our \"car_data\" dataset:')\n",
    "general_info(rb)\n",
    "print()"
   ]
  },
  {
   "cell_type": "markdown",
   "metadata": {},
   "source": [
    "<hr><h2>Data description</h2>\n",
    "\n",
    "<b style=\"font-size: 14px;\">Number of `rows`:35k</b>\n",
    "\n",
    "<b style=\"font-size: 14px;\">Number of `cols`:16</b>\n",
    "\n",
    "<br>\n",
    "\n",
    "**Features**\n",
    "\n",
    "- `DateCrawled` - date profile was downloaded from the database\n",
    "\n",
    "\n",
    "- `VehicleType` - vehicle body type\n",
    "\n",
    "\n",
    "- `RegistrationYear` - vehicle registration year\n",
    "\n",
    "\n",
    "- `Gearbox` - gearbox type\n",
    "\n",
    "\n",
    "- `Power` - power (horse power)\n",
    "\n",
    "\n",
    "- `Model` - vehicle model\n",
    "\n",
    "\n",
    "- `Mileage` - mileage (Total miles covered by this vehicle since new)\n",
    "\n",
    "\n",
    "- `RegistrationMonth` - vehicle registration month\n",
    "\n",
    "\n",
    "- `FuelType` - fuel type\n",
    "\n",
    "\n",
    "- `Brand` - vehicle brand\n",
    "\n",
    "\n",
    "- `NotRepaired` - vehicle repaired or not\n",
    "\n",
    "\n",
    "- `DateCreated` - date of profile creation\n",
    "\n",
    "\n",
    "- `NumberOfPictures` - number of vehicle pictures\n",
    "\n",
    "\n",
    "- `PostalCode` - postal code of profile owner (user)\n",
    "\n",
    "\n",
    "- `LastSeen` - date of the last activity of the user\n",
    "\n",
    "<br>\n",
    "\n",
    "**Target**\n",
    "\n",
    "`Price` - price (Euro)\n",
    "\n",
    "<br>\n",
    "\n",
    "**Missing values**\n",
    "\n",
    "yes in 5 columns: `VehicleType`, `gearbox`, `Model`, `fuel_type`, `NotRepaired`\n",
    "\n",
    "<br>\n",
    "\n",
    "**Duplicates**\n",
    "\n",
    "yes 262 rows \n",
    "\n",
    "<br>\n",
    "\n",
    "**Dtype issue**\n",
    "\n",
    "it's recommend that we going to change our columns : `date_crawled`,`date_created`,`last_seen` to datetime\n",
    "\n",
    "<br>\n",
    "<b><u>What we notice in our data:</u></b>\n",
    "\n",
    "- That the values of `Power` column is mix of values that can be split into 3 : \n",
    "  - (1) real horse power 50 - 600 hp (we choice this as borderline)\n",
    "  - (2) lower or values that can't be correct under 50hp \n",
    "  - (3) values that our engine size AKA 'cc', like skoda octavia that show in power column 1600 as value \n",
    "<br> <br> \n",
    "- Our data `postal code` does not have the ability to present a significant figure that would show an advantage of the locations of one vehicle over another This is due to the fact that it is a European data that we do not know from which country . if it was from USA we can tell country 'x' is a drier one and then there is no rust, or a vehicle from a country where there is high humidity and the chance of rust, we remove it before we train our model.\n",
    "<br><br>\n",
    "- `NumberOfPictures`, this could impact the price but since all the rows in this column is '0' , so no impact and we can say this column not bring noting this way we remove it in before we start to train our model.\n",
    "<br><br>\n",
    "- 5 columns with missing values: `VehicleType`, `gearbox`, `Model`, `fuel_type`, `NotRepaired`\n",
    "<br><br>\n",
    "- 262 rows of duplicates that will be remove\n",
    "<br><br>\n",
    "- change the date columns `date_crawled`,`date_created`,`last_seen` into datetime format\n",
    "<br><br>\n",
    "- In `FuelType` , found the same type of fuel in different pronunciation petrol and gasoline\n",
    "\n",
    "\n",
    "- `RegistrationYear` as min value of 1000 and max is 9999 , after we check it we found that everything above 2019 is incorrect data for year value"
   ]
  },
  {
   "cell_type": "markdown",
   "metadata": {},
   "source": [
    "<hr><h2>Data preprocessing</h2>"
   ]
  },
  {
   "cell_type": "markdown",
   "metadata": {},
   "source": [
    "<h3>Rename columns:</h3>"
   ]
  },
  {
   "cell_type": "code",
   "execution_count": 5,
   "metadata": {},
   "outputs": [
    {
     "data": {
      "text/plain": [
       "Index(['date_crawled', 'price', 'type', 'reg_year', 'transmission', 'power',\n",
       "       'model', 'mileage', 'reg_month', 'fuel', 'brand', 'not_repaired',\n",
       "       'date_created', 'num_of_pictures', 'zip', 'last_seen'],\n",
       "      dtype='object')"
      ]
     },
     "execution_count": 5,
     "metadata": {},
     "output_type": "execute_result"
    }
   ],
   "source": [
    "#Renaming columns\n",
    "rb.columns = ['date_crawled','price','type','reg_year', 'transmission','power','model','mileage','reg_month','fuel','brand',\n",
    "              'not_repaired','date_created','num_of_pictures','zip','last_seen']\n",
    "rb.columns"
   ]
  },
  {
   "cell_type": "markdown",
   "metadata": {},
   "source": [
    "We short our column values and lowercase it"
   ]
  },
  {
   "cell_type": "markdown",
   "metadata": {},
   "source": [
    "<hr><h3>Dtype change:</h3>\n",
    "\n",
    "Convert our date columns to datetime type"
   ]
  },
  {
   "cell_type": "code",
   "execution_count": 6,
   "metadata": {},
   "outputs": [
    {
     "name": "stdout",
     "output_type": "stream",
     "text": [
      "\n",
      "date_crawled:\n",
      "2016-03-05 14:25:00    66\n",
      "2016-03-05 14:26:00    59\n",
      "2016-03-16 18:49:00    55\n",
      "2016-03-05 17:49:00    54\n",
      "2016-03-05 15:48:00    54\n",
      "                       ..\n",
      "2016-03-11 01:53:00     1\n",
      "2016-04-04 17:26:00     1\n",
      "2016-04-02 12:11:00     1\n",
      "2016-03-31 21:23:00     1\n",
      "2016-04-05 00:47:00     1\n",
      "Name: date_crawled, Length: 15470, dtype: int64\n",
      "\n",
      "date_created:\n",
      "2016-04-03    13719\n",
      "2016-04-04    13317\n",
      "2016-03-20    12918\n",
      "2016-03-12    12840\n",
      "2016-03-21    12691\n",
      "              ...  \n",
      "2015-11-10        1\n",
      "2016-01-06        1\n",
      "2015-03-20        1\n",
      "2015-06-18        1\n",
      "2015-11-12        1\n",
      "Name: date_created, Length: 109, dtype: int64\n",
      "\n",
      "last_seen:\n",
      "2016-04-07 07:16:00    654\n",
      "2016-04-07 06:45:00    646\n",
      "2016-04-06 09:17:00    641\n",
      "2016-04-06 04:45:00    640\n",
      "2016-04-07 05:45:00    640\n",
      "                      ... \n",
      "2016-03-15 07:29:00      1\n",
      "2016-03-14 07:06:00      1\n",
      "2016-03-07 18:50:00      1\n",
      "2016-03-28 11:13:00      1\n",
      "2016-03-29 01:42:00      1\n",
      "Name: last_seen, Length: 18592, dtype: int64\n"
     ]
    }
   ],
   "source": [
    "#Changing date columns data types\n",
    "rb['date_crawled'] = pd.to_datetime(rb['date_crawled'], format='%d/%m/%Y %H:%M')\n",
    "rb['date_created'] = pd.to_datetime(rb['date_created'], format='%d/%m/%Y %H:%M')\n",
    "rb['last_seen'] = pd.to_datetime(rb['last_seen'], format='%d/%m/%Y %H:%M')\n",
    "\n",
    "print()\n",
    "print('date_crawled:')\n",
    "print(rb['date_crawled'].value_counts(dropna=False))\n",
    "print()\n",
    "print('date_created:')\n",
    "print(rb['date_created'].value_counts(dropna=False))\n",
    "print()\n",
    "print('last_seen:')\n",
    "print(rb['last_seen'].value_counts(dropna=False))"
   ]
  },
  {
   "cell_type": "markdown",
   "metadata": {},
   "source": [
    "<hr><h3>Duplicates:</h3>\n",
    "\n",
    "Since we have small number of duplicates rows (262) it's better to remove than try to fix them in this dataset"
   ]
  },
  {
   "cell_type": "code",
   "execution_count": 7,
   "metadata": {},
   "outputs": [
    {
     "data": {
      "text/plain": [
       "262"
      ]
     },
     "execution_count": 7,
     "metadata": {},
     "output_type": "execute_result"
    }
   ],
   "source": [
    "rb.duplicated().sum()"
   ]
  },
  {
   "cell_type": "code",
   "execution_count": 8,
   "metadata": {},
   "outputs": [
    {
     "data": {
      "text/plain": [
       "0"
      ]
     },
     "execution_count": 8,
     "metadata": {},
     "output_type": "execute_result"
    }
   ],
   "source": [
    "rb = rb.drop_duplicates(keep=False)\n",
    "rb.duplicated().sum()"
   ]
  },
  {
   "cell_type": "markdown",
   "metadata": {},
   "source": [
    "<hr><h3 style=\"font-size: 100%\">Missing values:</h3>"
   ]
  },
  {
   "cell_type": "code",
   "execution_count": 9,
   "metadata": {},
   "outputs": [
    {
     "data": {
      "text/plain": [
       "date_crawled       0.000000\n",
       "price              0.000000\n",
       "type               0.105916\n",
       "reg_year           0.000000\n",
       "transmission       0.056033\n",
       "power              0.000000\n",
       "model              0.055666\n",
       "mileage            0.000000\n",
       "reg_month          0.000000\n",
       "fuel               0.092931\n",
       "brand              0.000000\n",
       "not_repaired       0.201037\n",
       "date_created       0.000000\n",
       "num_of_pictures    0.000000\n",
       "zip                0.000000\n",
       "last_seen          0.000000\n",
       "dtype: float64"
      ]
     },
     "execution_count": 9,
     "metadata": {},
     "output_type": "execute_result"
    }
   ],
   "source": [
    "rb.isnull().sum()/rb.shape[0]"
   ]
  },
  {
   "cell_type": "markdown",
   "metadata": {},
   "source": [
    "<hr><h3 style=\"font-size: 100%\"> Process`not_repaired`column:</h3>"
   ]
  },
  {
   "cell_type": "code",
   "execution_count": 10,
   "metadata": {},
   "outputs": [
    {
     "data": {
      "text/plain": [
       "no     246693\n",
       "NaN     71136\n",
       "yes     36016\n",
       "Name: not_repaired, dtype: int64"
      ]
     },
     "execution_count": 10,
     "metadata": {},
     "output_type": "execute_result"
    }
   ],
   "source": [
    "#before we fillna our NaN's\n",
    "rb['not_repaired'].value_counts(dropna=False)"
   ]
  },
  {
   "cell_type": "code",
   "execution_count": 11,
   "metadata": {},
   "outputs": [
    {
     "data": {
      "text/plain": [
       "no     317829\n",
       "yes     36016\n",
       "Name: not_repaired, dtype: int64"
      ]
     },
     "execution_count": 11,
     "metadata": {},
     "output_type": "execute_result"
    }
   ],
   "source": [
    "#after we fillna our NaN's\n",
    "rb['not_repaired'].fillna('no', inplace=True)\n",
    "rb['not_repaired'].value_counts(dropna=False)"
   ]
  },
  {
   "cell_type": "markdown",
   "metadata": {},
   "source": [
    "Since the most common in our column is 'no' we going to change the missing values with this"
   ]
  },
  {
   "cell_type": "markdown",
   "metadata": {},
   "source": [
    "<hr><h3 style=\"font-size: 100%\"> Process`model`column:</h3>"
   ]
  },
  {
   "cell_type": "code",
   "execution_count": 12,
   "metadata": {},
   "outputs": [
    {
     "data": {
      "text/plain": [
       "other                 44080\n",
       "golf                  29198\n",
       "3er                   19727\n",
       "polo                  13048\n",
       "corsa                 12548\n",
       "                      ...  \n",
       "i3                        8\n",
       "serie_3                   4\n",
       "rangerover                4\n",
       "range_rover_evoque        2\n",
       "serie_1                   2\n",
       "Name: model, Length: 250, dtype: int64"
      ]
     },
     "execution_count": 12,
     "metadata": {},
     "output_type": "execute_result"
    }
   ],
   "source": [
    "#fillna our NaN's' with 'other' value\n",
    "rb['model'].fillna('other', inplace=True)\n",
    "rb['model'].value_counts(dropna=False)"
   ]
  },
  {
   "cell_type": "markdown",
   "metadata": {},
   "source": [
    "<hr><h3 style=\"font-size: 100%\"> Process`type`column:</h3>"
   ]
  },
  {
   "cell_type": "code",
   "execution_count": 13,
   "metadata": {},
   "outputs": [
    {
     "data": {
      "text/plain": [
       "sedan          91341\n",
       "small          79675\n",
       "wagon          65064\n",
       "other          40762\n",
       "bus            28729\n",
       "convertible    20157\n",
       "coupe          16131\n",
       "suv            11986\n",
       "Name: type, dtype: int64"
      ]
     },
     "execution_count": 13,
     "metadata": {},
     "output_type": "execute_result"
    }
   ],
   "source": [
    "#fillna our NaN's' with 'other' value\n",
    "rb['type'].fillna('other', inplace=True)\n",
    "rb['type'].value_counts(dropna=False)"
   ]
  },
  {
   "cell_type": "markdown",
   "metadata": {},
   "source": [
    "Since we already have the value other we choice it as the fillna of our NaN's values"
   ]
  },
  {
   "cell_type": "markdown",
   "metadata": {},
   "source": [
    "<hr><h3 style=\"font-size: 100%\"> Process`fuel`column:</h3>"
   ]
  },
  {
   "cell_type": "code",
   "execution_count": 14,
   "metadata": {},
   "outputs": [
    {
     "data": {
      "text/plain": [
       "gasoline       347653\n",
       "natural gas      5869\n",
       "hybrid            233\n",
       "electric           90\n",
       "Name: fuel, dtype: int64"
      ]
     },
     "execution_count": 14,
     "metadata": {},
     "output_type": "execute_result"
    }
   ],
   "source": [
    "#fillna our NaN's' with 'gasoline' value also merge petrol and gasoline into 'gasoline' and lpg & cng into 'natural gas'\n",
    "rb['fuel'].replace(['petrol','other','lpg','cng'],['gasoline','gasoline','natural gas','natural gas'],inplace=True)\n",
    "rb.fuel = rb.fuel.replace(np.nan,'gasoline')\n",
    "rb['fuel'].value_counts(dropna=False)"
   ]
  },
  {
   "cell_type": "markdown",
   "metadata": {},
   "source": [
    "Since most of our data vehicles is gasoline we change our NaN's into them also we merge petrol and gasoline since it's the same type in different word and we also merge lpg & cng into new value natural gas"
   ]
  },
  {
   "cell_type": "markdown",
   "metadata": {},
   "source": [
    "<hr><h3 style=\"font-size: 100%\"> Process`transmission`column:</h3>"
   ]
  },
  {
   "cell_type": "code",
   "execution_count": 15,
   "metadata": {},
   "outputs": [
    {
     "data": {
      "text/plain": [
       "manual    267817\n",
       "auto       66201\n",
       "NaN        19827\n",
       "Name: transmission, dtype: int64"
      ]
     },
     "execution_count": 15,
     "metadata": {},
     "output_type": "execute_result"
    }
   ],
   "source": [
    "#before we fillna our NaN's\n",
    "rb['transmission'].value_counts(dropna=False)"
   ]
  },
  {
   "cell_type": "code",
   "execution_count": 16,
   "metadata": {},
   "outputs": [],
   "source": [
    "#replace our NaN's with most common value 'manual'\n",
    "rb.transmission = rb.transmission.replace(np.nan,'manual')"
   ]
  },
  {
   "cell_type": "code",
   "execution_count": 17,
   "metadata": {},
   "outputs": [
    {
     "data": {
      "text/plain": [
       "manual    287644\n",
       "auto       66201\n",
       "Name: transmission, dtype: int64"
      ]
     },
     "execution_count": 17,
     "metadata": {},
     "output_type": "execute_result"
    }
   ],
   "source": [
    "#after we fillna our NaN's\n",
    "rb['transmission'].value_counts(dropna=False)"
   ]
  },
  {
   "cell_type": "markdown",
   "metadata": {},
   "source": [
    "We have more manual vehicles than automatic so we change our NaN's into this one"
   ]
  },
  {
   "cell_type": "markdown",
   "metadata": {},
   "source": [
    "<hr><h2>EDA:</h2>"
   ]
  },
  {
   "cell_type": "markdown",
   "metadata": {},
   "source": [
    "<h3>`reg_year`column:</h3>"
   ]
  },
  {
   "cell_type": "code",
   "execution_count": 18,
   "metadata": {},
   "outputs": [
    {
     "data": {
      "image/png": "[encoded data removed]",
      "text/plain": [
       "<Figure size 1080x288 with 1 Axes>"
      ]
     },
     "metadata": {},
     "output_type": "display_data"
    },
    {
     "data": {
      "image/png": "[encoded data removed]",
      "text/plain": [
       "<Figure size 1080x288 with 1 Axes>"
      ]
     },
     "metadata": {},
     "output_type": "display_data"
    }
   ],
   "source": [
    "#lets see our Outliers in reg_year column\n",
    "rb.boxplot('reg_year' ,figsize=(15, 4))\n",
    "plt.ylim(1000, 10000)\n",
    "plt.title('Registration year: box-and-whiskers plot')\n",
    "plt.xticks([1], [''])\n",
    "plt.ylabel('year');\n",
    "\n",
    "rb.hist('reg_year' ,figsize=(15, 4))\n",
    "plt.title('Registration year: frequency distribution')\n",
    "plt.xlabel('year')\n",
    "plt.ylabel('number of vehicles');"
   ]
  },
  {
   "cell_type": "markdown",
   "metadata": {},
   "source": [
    "As we can see our data have a lot of outliers , but the most observations around the year 2000 , And since the real highest registration year in our data is 2019, we going to limit our border between 1900 - 2019"
   ]
  },
  {
   "cell_type": "code",
   "execution_count": 19,
   "metadata": {},
   "outputs": [],
   "source": [
    "#borderline between 1900 - 2019\n",
    "rb.loc[(rb['reg_year'] < 1900) | (rb['reg_year'] > 2019), 'reg_year'] = np.nan"
   ]
  },
  {
   "cell_type": "code",
   "execution_count": 20,
   "metadata": {},
   "outputs": [],
   "source": [
    "#limit values lower than 1900 and higher than 2019 \n",
    "rb = rb.dropna(subset=['reg_year'], axis=0)\n",
    "rb.reset_index(drop=True, inplace=True)"
   ]
  },
  {
   "cell_type": "markdown",
   "metadata": {},
   "source": [
    "<hr><h3>`price`column:</h3>"
   ]
  },
  {
   "cell_type": "code",
   "execution_count": 21,
   "metadata": {},
   "outputs": [
    {
     "data": {
      "image/png": "[encoded data removed]",
      "text/plain": [
       "<Figure size 1080x288 with 1 Axes>"
      ]
     },
     "metadata": {},
     "output_type": "display_data"
    },
    {
     "data": {
      "image/png": "[encoded data removed]",
      "text/plain": [
       "<Figure size 1080x288 with 1 Axes>"
      ]
     },
     "metadata": {},
     "output_type": "display_data"
    }
   ],
   "source": [
    "#lets see our Outliers in price column\n",
    "rb.boxplot('price' ,figsize=(15, 4))\n",
    "plt.ylim(1000, 10000)\n",
    "plt.title('Vehicle price: box-and-whiskers plot')\n",
    "plt.xticks([1], [''])\n",
    "plt.ylabel('price');\n",
    "\n",
    "rb.hist('price' ,figsize=(15, 4))\n",
    "plt.title('Vehicle price: frequency distribution')\n",
    "plt.xlabel('price')\n",
    "plt.ylabel('number of vehicles');"
   ]
  },
  {
   "cell_type": "markdown",
   "metadata": {},
   "source": [
    "As we can see our price range is between 1k to 6k euro, when our max price is 20k which look reasonable price overall. let's see if there is other artifacts"
   ]
  },
  {
   "cell_type": "code",
   "execution_count": 22,
   "metadata": {},
   "outputs": [
    {
     "data": {
      "text/plain": [
       "7"
      ]
     },
     "execution_count": 22,
     "metadata": {},
     "output_type": "execute_result"
    }
   ],
   "source": [
    "#lets see our len in price column equal to 12345\n",
    "len(rb[rb['price'] == 12345])"
   ]
  },
  {
   "cell_type": "code",
   "execution_count": 23,
   "metadata": {},
   "outputs": [
    {
     "data": {
      "text/plain": [
       "1179"
      ]
     },
     "execution_count": 23,
     "metadata": {},
     "output_type": "execute_result"
    }
   ],
   "source": [
    "#lets see our len in price equal to 1\n",
    "len(rb[rb['price'] == 1])"
   ]
  },
  {
   "cell_type": "code",
   "execution_count": 24,
   "metadata": {},
   "outputs": [
    {
     "data": {
      "text/plain": [
       "10736"
      ]
     },
     "execution_count": 24,
     "metadata": {},
     "output_type": "execute_result"
    }
   ],
   "source": [
    "#lets see our len in price column equal to 0\n",
    "len(rb[rb['price'] == 0])"
   ]
  },
  {
   "cell_type": "markdown",
   "metadata": {},
   "source": [
    "Let's remove then, since this our target column and any value like the one above isn't informative us for any purpose"
   ]
  },
  {
   "cell_type": "code",
   "execution_count": 25,
   "metadata": {},
   "outputs": [],
   "source": [
    "rb.loc[(rb['price'] == 12345) | (rb['price'] == 1) | (rb['price'] == 0), 'price'] = np.nan"
   ]
  },
  {
   "cell_type": "code",
   "execution_count": 26,
   "metadata": {},
   "outputs": [
    {
     "data": {
      "text/plain": [
       "(341752, 16)"
      ]
     },
     "execution_count": 26,
     "metadata": {},
     "output_type": "execute_result"
    }
   ],
   "source": [
    "#drop and reset the data\n",
    "rb = rb.dropna(subset=['price'], axis=0)\n",
    "rb.reset_index(drop=True, inplace=True)\n",
    "rb.shape"
   ]
  },
  {
   "cell_type": "markdown",
   "metadata": {},
   "source": [
    "<hr><h3>`mileage`column:</h3>"
   ]
  },
  {
   "cell_type": "code",
   "execution_count": 27,
   "metadata": {},
   "outputs": [
    {
     "data": {
      "image/png": "[encoded data removed]",
      "text/plain": [
       "<Figure size 1080x288 with 1 Axes>"
      ]
     },
     "metadata": {},
     "output_type": "display_data"
    },
    {
     "data": {
      "image/png": "[encoded data removed]",
      "text/plain": [
       "<Figure size 1080x288 with 1 Axes>"
      ]
     },
     "metadata": {},
     "output_type": "display_data"
    },
    {
     "data": {
      "image/png": "[encoded data removed]",
      "text/plain": [
       "<Figure size 1080x288 with 1 Axes>"
      ]
     },
     "metadata": {},
     "output_type": "display_data"
    }
   ],
   "source": [
    "#lets see our Outliers in 'price' column\n",
    "Q1 = rb['mileage'].quantile(0.25)\n",
    "Q3 = rb['mileage'].quantile(0.75)\n",
    "IQR = Q3 - Q1\n",
    "lower_whisker = Q1 - 1.5 * IQR\n",
    "rb.boxplot('mileage' ,figsize=(15, 4))\n",
    "plt.hlines(y=lower_whisker, xmin=0.9, xmax=1.1, color='red')\n",
    "plt.title('Mileage: box plot with theoretical whisker')\n",
    "plt.xticks([1], [''])\n",
    "plt.ylabel('mileage');\n",
    "\n",
    "len(rb[rb['mileage'] < lower_whisker])\n",
    "\n",
    "rb.hist('mileage' ,figsize=(15, 4))\n",
    "plt.title('mileage: frequency distribution')\n",
    "plt.xlabel('mileage')\n",
    "plt.ylabel('number of vehicles');\n",
    "\n",
    "rb.plot.scatter(x='mileage', y='price', alpha=.25,figsize=(15, 4))\n",
    "plt.title('Link between price and mileage of a vehicle');"
   ]
  },
  {
   "cell_type": "markdown",
   "metadata": {},
   "source": [
    "Our most observations come with high mileage value , there is some values with lower whisker , so we keep them since there isn't so many and there value can be exist.\n",
    "\n",
    "Also no clear linear connection between price and mileages"
   ]
  },
  {
   "cell_type": "markdown",
   "metadata": {},
   "source": [
    "<hr><h3>`power`column:</h3>"
   ]
  },
  {
   "cell_type": "code",
   "execution_count": 28,
   "metadata": {},
   "outputs": [
    {
     "data": {
      "image/png": "[encoded data removed]",
      "text/plain": [
       "<Figure size 1080x288 with 1 Axes>"
      ]
     },
     "metadata": {},
     "output_type": "display_data"
    }
   ],
   "source": [
    "#lets see our Outliers in 'power' column\n",
    "rb.hist('power' ,figsize=(15, 4))\n",
    "plt.title('Horse power distribution');\n",
    "plt.xlabel('power')\n",
    "plt.ylabel('number of vehicles');"
   ]
  },
  {
   "cell_type": "code",
   "execution_count": 29,
   "metadata": {},
   "outputs": [
    {
     "data": {
      "text/plain": [
       "350"
      ]
     },
     "execution_count": 29,
     "metadata": {},
     "output_type": "execute_result"
    }
   ],
   "source": [
    "len(rb[rb['power'] > 600])"
   ]
  },
  {
   "cell_type": "code",
   "execution_count": 30,
   "metadata": {},
   "outputs": [
    {
     "data": {
      "text/plain": [
       "41447"
      ]
     },
     "execution_count": 30,
     "metadata": {},
     "output_type": "execute_result"
    }
   ],
   "source": [
    "len(rb[rb['power']  < 50])"
   ]
  },
  {
   "cell_type": "markdown",
   "metadata": {},
   "source": [
    "It's very clear that our 'power' column is combine of values that kind of confusing between 50-600 is power or horsepower lower than 50 incorrect data and higher than 600 is engine size not horse power and to add another column for engine won't solve this issue we going to borderline this column between 50 - 600"
   ]
  },
  {
   "cell_type": "code",
   "execution_count": 31,
   "metadata": {},
   "outputs": [
    {
     "data": {
      "text/plain": [
       "(299955, 16)"
      ]
     },
     "execution_count": 31,
     "metadata": {},
     "output_type": "execute_result"
    }
   ],
   "source": [
    "#borderline between 50 - 600 hp everything above or lower is outliers\n",
    "rb.loc[(rb['power'] > 600) | (rb['power'] < 50), 'power'] = np.nan\n",
    "\n",
    "rb = rb.dropna(subset=['power'], axis=0)\n",
    "rb.reset_index(drop=True, inplace=True)\n",
    "rb.shape"
   ]
  },
  {
   "cell_type": "code",
   "execution_count": 32,
   "metadata": {},
   "outputs": [
    {
     "data": {
      "image/png": "[encoded data removed]",
      "text/plain": [
       "<Figure size 432x288 with 1 Axes>"
      ]
     },
     "metadata": {},
     "output_type": "display_data"
    }
   ],
   "source": [
    "rb.plot.scatter(x='power', y='price', alpha=.25)\n",
    "plt.title('Link between price and power of a vehicle');"
   ]
  },
  {
   "cell_type": "markdown",
   "metadata": {},
   "source": [
    "We can't see any clear linear connection between the price and the power"
   ]
  },
  {
   "cell_type": "markdown",
   "metadata": {},
   "source": [
    "<hr><h3>extra data column vehicle age:</h3>\n",
    "\n",
    "Let's calc the age of our vehicle when the target is the price\n",
    "\n",
    "we going to extract the 'year' for our profile creation from the reg_year column "
   ]
  },
  {
   "cell_type": "code",
   "execution_count": 33,
   "metadata": {},
   "outputs": [],
   "source": [
    "#new column to see the age of the vehicle in our data\n",
    "rb['year_created'] = rb['date_created'].dt.year\n",
    "rb['age'] = rb['year_created'] - rb['reg_year']"
   ]
  },
  {
   "cell_type": "code",
   "execution_count": 34,
   "metadata": {},
   "outputs": [
    {
     "data": {
      "image/png": "[encoded data removed]",
      "text/plain": [
       "<Figure size 432x288 with 1 Axes>"
      ]
     },
     "metadata": {},
     "output_type": "display_data"
    }
   ],
   "source": [
    "rb.plot.scatter(x='age', y='price', alpha=.25)\n",
    "plt.title('Link between price and age of a vehicle');"
   ]
  },
  {
   "cell_type": "markdown",
   "metadata": {},
   "source": [
    "We can see very slight liner negative connection between the price and the age \n",
    "lower age , lower price although this doesn't stand for all observations, could be other features."
   ]
  },
  {
   "cell_type": "markdown",
   "metadata": {},
   "source": [
    "<hr><h3>zip column:</h3>"
   ]
  },
  {
   "cell_type": "code",
   "execution_count": 35,
   "metadata": {},
   "outputs": [
    {
     "data": {
      "image/png": "[encoded data removed]",
      "text/plain": [
       "<Figure size 432x288 with 1 Axes>"
      ]
     },
     "metadata": {},
     "output_type": "display_data"
    }
   ],
   "source": [
    "#lets see if there is any link between zip and price\n",
    "rb.plot.scatter(x='zip', y='price', alpha=.25)\n",
    "plt.title('Link between price and zip code');"
   ]
  },
  {
   "cell_type": "markdown",
   "metadata": {},
   "source": [
    "We can't see any liner dependency between this two variables , consider to test a model without zip feature"
   ]
  },
  {
   "cell_type": "markdown",
   "metadata": {},
   "source": [
    "<hr><h3>Drop columns:</h3>\n",
    "\n",
    "before we move on let's remove columns that we don't need in our next chapter"
   ]
  },
  {
   "cell_type": "code",
   "execution_count": 36,
   "metadata": {},
   "outputs": [],
   "source": [
    "#drop columns before encode and train after it\n",
    "rb=rb.drop(['zip','date_crawled','last_seen','num_of_pictures','reg_month','date_created','reg_year','year_created'],axis=1)"
   ]
  },
  {
   "cell_type": "code",
   "execution_count": 37,
   "metadata": {},
   "outputs": [
    {
     "data": {
      "text/html": [
       "<div>\n",
       "<style scoped>\n",
       "    .dataframe tbody tr th:only-of-type {\n",
       "        vertical-align: middle;\n",
       "    }\n",
       "\n",
       "    .dataframe tbody tr th {\n",
       "        vertical-align: top;\n",
       "    }\n",
       "\n",
       "    .dataframe thead th {\n",
       "        text-align: right;\n",
       "    }\n",
       "</style>\n",
       "<table border=\"1\" class=\"dataframe\">\n",
       "  <thead>\n",
       "    <tr style=\"text-align: right;\">\n",
       "      <th></th>\n",
       "      <th>price</th>\n",
       "      <th>type</th>\n",
       "      <th>transmission</th>\n",
       "      <th>power</th>\n",
       "      <th>model</th>\n",
       "      <th>mileage</th>\n",
       "      <th>fuel</th>\n",
       "      <th>brand</th>\n",
       "      <th>not_repaired</th>\n",
       "      <th>age</th>\n",
       "    </tr>\n",
       "  </thead>\n",
       "  <tbody>\n",
       "    <tr>\n",
       "      <th>0</th>\n",
       "      <td>18300.0</td>\n",
       "      <td>coupe</td>\n",
       "      <td>manual</td>\n",
       "      <td>190.0</td>\n",
       "      <td>other</td>\n",
       "      <td>125000</td>\n",
       "      <td>gasoline</td>\n",
       "      <td>audi</td>\n",
       "      <td>yes</td>\n",
       "      <td>5.0</td>\n",
       "    </tr>\n",
       "    <tr>\n",
       "      <th>1</th>\n",
       "      <td>9800.0</td>\n",
       "      <td>suv</td>\n",
       "      <td>auto</td>\n",
       "      <td>163.0</td>\n",
       "      <td>grand</td>\n",
       "      <td>125000</td>\n",
       "      <td>gasoline</td>\n",
       "      <td>jeep</td>\n",
       "      <td>no</td>\n",
       "      <td>12.0</td>\n",
       "    </tr>\n",
       "    <tr>\n",
       "      <th>2</th>\n",
       "      <td>1500.0</td>\n",
       "      <td>small</td>\n",
       "      <td>manual</td>\n",
       "      <td>75.0</td>\n",
       "      <td>golf</td>\n",
       "      <td>150000</td>\n",
       "      <td>gasoline</td>\n",
       "      <td>volkswagen</td>\n",
       "      <td>no</td>\n",
       "      <td>15.0</td>\n",
       "    </tr>\n",
       "    <tr>\n",
       "      <th>3</th>\n",
       "      <td>3600.0</td>\n",
       "      <td>small</td>\n",
       "      <td>manual</td>\n",
       "      <td>69.0</td>\n",
       "      <td>fabia</td>\n",
       "      <td>90000</td>\n",
       "      <td>gasoline</td>\n",
       "      <td>skoda</td>\n",
       "      <td>no</td>\n",
       "      <td>8.0</td>\n",
       "    </tr>\n",
       "    <tr>\n",
       "      <th>4</th>\n",
       "      <td>650.0</td>\n",
       "      <td>sedan</td>\n",
       "      <td>manual</td>\n",
       "      <td>102.0</td>\n",
       "      <td>3er</td>\n",
       "      <td>150000</td>\n",
       "      <td>gasoline</td>\n",
       "      <td>bmw</td>\n",
       "      <td>yes</td>\n",
       "      <td>21.0</td>\n",
       "    </tr>\n",
       "  </tbody>\n",
       "</table>\n",
       "</div>"
      ],
      "text/plain": [
       "     price   type transmission  power  model  mileage      fuel       brand  \\\n",
       "0  18300.0  coupe       manual  190.0  other   125000  gasoline        audi   \n",
       "1   9800.0    suv         auto  163.0  grand   125000  gasoline        jeep   \n",
       "2   1500.0  small       manual   75.0   golf   150000  gasoline  volkswagen   \n",
       "3   3600.0  small       manual   69.0  fabia    90000  gasoline       skoda   \n",
       "4    650.0  sedan       manual  102.0    3er   150000  gasoline         bmw   \n",
       "\n",
       "  not_repaired   age  \n",
       "0          yes   5.0  \n",
       "1           no  12.0  \n",
       "2           no  15.0  \n",
       "3           no   8.0  \n",
       "4          yes  21.0  "
      ]
     },
     "execution_count": 37,
     "metadata": {},
     "output_type": "execute_result"
    }
   ],
   "source": [
    "rb.head()"
   ]
  },
  {
   "cell_type": "markdown",
   "metadata": {},
   "source": [
    "<hr><h3>Encoding of categorical variables:</h3>"
   ]
  },
  {
   "cell_type": "code",
   "execution_count": 38,
   "metadata": {},
   "outputs": [],
   "source": [
    "#encode data\n",
    "rbnew = OrdinalEncoder()"
   ]
  },
  {
   "cell_type": "code",
   "execution_count": 39,
   "metadata": {},
   "outputs": [],
   "source": [
    "cat_columns = ['type', 'transmission', 'model', 'fuel', 'brand', 'not_repaired']"
   ]
  },
  {
   "cell_type": "code",
   "execution_count": 40,
   "metadata": {},
   "outputs": [],
   "source": [
    "rb[cat_columns] = rbnew.fit_transform(rb[cat_columns])"
   ]
  },
  {
   "cell_type": "code",
   "execution_count": 41,
   "metadata": {},
   "outputs": [
    {
     "data": {
      "text/html": [
       "<div>\n",
       "<style scoped>\n",
       "    .dataframe tbody tr th:only-of-type {\n",
       "        vertical-align: middle;\n",
       "    }\n",
       "\n",
       "    .dataframe tbody tr th {\n",
       "        vertical-align: top;\n",
       "    }\n",
       "\n",
       "    .dataframe thead th {\n",
       "        text-align: right;\n",
       "    }\n",
       "</style>\n",
       "<table border=\"1\" class=\"dataframe\">\n",
       "  <thead>\n",
       "    <tr style=\"text-align: right;\">\n",
       "      <th></th>\n",
       "      <th>price</th>\n",
       "      <th>type</th>\n",
       "      <th>transmission</th>\n",
       "      <th>power</th>\n",
       "      <th>model</th>\n",
       "      <th>mileage</th>\n",
       "      <th>fuel</th>\n",
       "      <th>brand</th>\n",
       "      <th>not_repaired</th>\n",
       "      <th>age</th>\n",
       "    </tr>\n",
       "  </thead>\n",
       "  <tbody>\n",
       "    <tr>\n",
       "      <th>0</th>\n",
       "      <td>18300.0</td>\n",
       "      <td>2.0</td>\n",
       "      <td>1.0</td>\n",
       "      <td>190.0</td>\n",
       "      <td>166.0</td>\n",
       "      <td>125000</td>\n",
       "      <td>1.0</td>\n",
       "      <td>1.0</td>\n",
       "      <td>1.0</td>\n",
       "      <td>5.0</td>\n",
       "    </tr>\n",
       "    <tr>\n",
       "      <th>1</th>\n",
       "      <td>9800.0</td>\n",
       "      <td>6.0</td>\n",
       "      <td>0.0</td>\n",
       "      <td>163.0</td>\n",
       "      <td>117.0</td>\n",
       "      <td>125000</td>\n",
       "      <td>1.0</td>\n",
       "      <td>14.0</td>\n",
       "      <td>0.0</td>\n",
       "      <td>12.0</td>\n",
       "    </tr>\n",
       "    <tr>\n",
       "      <th>2</th>\n",
       "      <td>1500.0</td>\n",
       "      <td>5.0</td>\n",
       "      <td>1.0</td>\n",
       "      <td>75.0</td>\n",
       "      <td>116.0</td>\n",
       "      <td>150000</td>\n",
       "      <td>1.0</td>\n",
       "      <td>38.0</td>\n",
       "      <td>0.0</td>\n",
       "      <td>15.0</td>\n",
       "    </tr>\n",
       "    <tr>\n",
       "      <th>3</th>\n",
       "      <td>3600.0</td>\n",
       "      <td>5.0</td>\n",
       "      <td>1.0</td>\n",
       "      <td>69.0</td>\n",
       "      <td>101.0</td>\n",
       "      <td>90000</td>\n",
       "      <td>1.0</td>\n",
       "      <td>31.0</td>\n",
       "      <td>0.0</td>\n",
       "      <td>8.0</td>\n",
       "    </tr>\n",
       "    <tr>\n",
       "      <th>4</th>\n",
       "      <td>650.0</td>\n",
       "      <td>4.0</td>\n",
       "      <td>1.0</td>\n",
       "      <td>102.0</td>\n",
       "      <td>11.0</td>\n",
       "      <td>150000</td>\n",
       "      <td>1.0</td>\n",
       "      <td>2.0</td>\n",
       "      <td>1.0</td>\n",
       "      <td>21.0</td>\n",
       "    </tr>\n",
       "  </tbody>\n",
       "</table>\n",
       "</div>"
      ],
      "text/plain": [
       "     price  type  transmission  power  model  mileage  fuel  brand  \\\n",
       "0  18300.0   2.0           1.0  190.0  166.0   125000   1.0    1.0   \n",
       "1   9800.0   6.0           0.0  163.0  117.0   125000   1.0   14.0   \n",
       "2   1500.0   5.0           1.0   75.0  116.0   150000   1.0   38.0   \n",
       "3   3600.0   5.0           1.0   69.0  101.0    90000   1.0   31.0   \n",
       "4    650.0   4.0           1.0  102.0   11.0   150000   1.0    2.0   \n",
       "\n",
       "   not_repaired   age  \n",
       "0           1.0   5.0  \n",
       "1           0.0  12.0  \n",
       "2           0.0  15.0  \n",
       "3           0.0   8.0  \n",
       "4           1.0  21.0  "
      ]
     },
     "execution_count": 41,
     "metadata": {},
     "output_type": "execute_result"
    }
   ],
   "source": [
    "rb.head()"
   ]
  },
  {
   "cell_type": "markdown",
   "metadata": {},
   "source": [
    "<hr><h2>Model training & analysis</h2>\n",
    "\n",
    "Splitting data into train, validation and test sets\n",
    "\n",
    "let's split data into train and test sets with the 80/20 proportion, respectively"
   ]
  },
  {
   "cell_type": "code",
   "execution_count": 42,
   "metadata": {},
   "outputs": [],
   "source": [
    "#split our data intro train and test set\n",
    "X = rb.drop(['price'], axis=1)\n",
    "y = rb['price']\n",
    "X_train, X_test, y_train, y_test = train_test_split(X, y, test_size = 0.2, random_state=12345)"
   ]
  },
  {
   "cell_type": "code",
   "execution_count": 43,
   "metadata": {},
   "outputs": [],
   "source": [
    "X_train, X_valid, y_train, y_valid = train_test_split(X_train, y_train,test_size = 0.2, random_state=12345)"
   ]
  },
  {
   "cell_type": "code",
   "execution_count": 44,
   "metadata": {},
   "outputs": [
    {
     "data": {
      "text/html": [
       "<div>\n",
       "<style scoped>\n",
       "    .dataframe tbody tr th:only-of-type {\n",
       "        vertical-align: middle;\n",
       "    }\n",
       "\n",
       "    .dataframe tbody tr th {\n",
       "        vertical-align: top;\n",
       "    }\n",
       "\n",
       "    .dataframe thead th {\n",
       "        text-align: right;\n",
       "    }\n",
       "</style>\n",
       "<table border=\"1\" class=\"dataframe\">\n",
       "  <thead>\n",
       "    <tr style=\"text-align: right;\">\n",
       "      <th></th>\n",
       "      <th>type</th>\n",
       "      <th>transmission</th>\n",
       "      <th>power</th>\n",
       "      <th>model</th>\n",
       "      <th>mileage</th>\n",
       "      <th>fuel</th>\n",
       "      <th>brand</th>\n",
       "      <th>not_repaired</th>\n",
       "      <th>age</th>\n",
       "    </tr>\n",
       "  </thead>\n",
       "  <tbody>\n",
       "    <tr>\n",
       "      <th>count</th>\n",
       "      <td>191971.000000</td>\n",
       "      <td>191971.000000</td>\n",
       "      <td>191971.000000</td>\n",
       "      <td>191971.000000</td>\n",
       "      <td>191971.000000</td>\n",
       "      <td>191971.000000</td>\n",
       "      <td>191971.000000</td>\n",
       "      <td>191971.000000</td>\n",
       "      <td>191971.000000</td>\n",
       "    </tr>\n",
       "    <tr>\n",
       "      <th>mean</th>\n",
       "      <td>4.179439</td>\n",
       "      <td>0.801829</td>\n",
       "      <td>121.858400</td>\n",
       "      <td>109.870173</td>\n",
       "      <td>128673.523605</td>\n",
       "      <td>1.035979</td>\n",
       "      <td>20.626631</td>\n",
       "      <td>0.095556</td>\n",
       "      <td>12.546557</td>\n",
       "    </tr>\n",
       "    <tr>\n",
       "      <th>std</th>\n",
       "      <td>2.074913</td>\n",
       "      <td>0.398622</td>\n",
       "      <td>53.329586</td>\n",
       "      <td>70.328782</td>\n",
       "      <td>36475.302564</td>\n",
       "      <td>0.265269</td>\n",
       "      <td>13.406652</td>\n",
       "      <td>0.293982</td>\n",
       "      <td>6.724550</td>\n",
       "    </tr>\n",
       "    <tr>\n",
       "      <th>min</th>\n",
       "      <td>0.000000</td>\n",
       "      <td>0.000000</td>\n",
       "      <td>50.000000</td>\n",
       "      <td>0.000000</td>\n",
       "      <td>5000.000000</td>\n",
       "      <td>0.000000</td>\n",
       "      <td>0.000000</td>\n",
       "      <td>0.000000</td>\n",
       "      <td>-3.000000</td>\n",
       "    </tr>\n",
       "    <tr>\n",
       "      <th>25%</th>\n",
       "      <td>3.000000</td>\n",
       "      <td>1.000000</td>\n",
       "      <td>80.000000</td>\n",
       "      <td>42.000000</td>\n",
       "      <td>125000.000000</td>\n",
       "      <td>1.000000</td>\n",
       "      <td>9.000000</td>\n",
       "      <td>0.000000</td>\n",
       "      <td>8.000000</td>\n",
       "    </tr>\n",
       "    <tr>\n",
       "      <th>50%</th>\n",
       "      <td>4.000000</td>\n",
       "      <td>1.000000</td>\n",
       "      <td>114.000000</td>\n",
       "      <td>116.000000</td>\n",
       "      <td>150000.000000</td>\n",
       "      <td>1.000000</td>\n",
       "      <td>23.000000</td>\n",
       "      <td>0.000000</td>\n",
       "      <td>13.000000</td>\n",
       "    </tr>\n",
       "    <tr>\n",
       "      <th>75%</th>\n",
       "      <td>5.000000</td>\n",
       "      <td>1.000000</td>\n",
       "      <td>150.000000</td>\n",
       "      <td>166.000000</td>\n",
       "      <td>150000.000000</td>\n",
       "      <td>1.000000</td>\n",
       "      <td>33.000000</td>\n",
       "      <td>0.000000</td>\n",
       "      <td>17.000000</td>\n",
       "    </tr>\n",
       "    <tr>\n",
       "      <th>max</th>\n",
       "      <td>7.000000</td>\n",
       "      <td>1.000000</td>\n",
       "      <td>600.000000</td>\n",
       "      <td>248.000000</td>\n",
       "      <td>150000.000000</td>\n",
       "      <td>3.000000</td>\n",
       "      <td>39.000000</td>\n",
       "      <td>1.000000</td>\n",
       "      <td>106.000000</td>\n",
       "    </tr>\n",
       "  </tbody>\n",
       "</table>\n",
       "</div>"
      ],
      "text/plain": [
       "                type   transmission          power          model  \\\n",
       "count  191971.000000  191971.000000  191971.000000  191971.000000   \n",
       "mean        4.179439       0.801829     121.858400     109.870173   \n",
       "std         2.074913       0.398622      53.329586      70.328782   \n",
       "min         0.000000       0.000000      50.000000       0.000000   \n",
       "25%         3.000000       1.000000      80.000000      42.000000   \n",
       "50%         4.000000       1.000000     114.000000     116.000000   \n",
       "75%         5.000000       1.000000     150.000000     166.000000   \n",
       "max         7.000000       1.000000     600.000000     248.000000   \n",
       "\n",
       "             mileage           fuel          brand   not_repaired  \\\n",
       "count  191971.000000  191971.000000  191971.000000  191971.000000   \n",
       "mean   128673.523605       1.035979      20.626631       0.095556   \n",
       "std     36475.302564       0.265269      13.406652       0.293982   \n",
       "min      5000.000000       0.000000       0.000000       0.000000   \n",
       "25%    125000.000000       1.000000       9.000000       0.000000   \n",
       "50%    150000.000000       1.000000      23.000000       0.000000   \n",
       "75%    150000.000000       1.000000      33.000000       0.000000   \n",
       "max    150000.000000       3.000000      39.000000       1.000000   \n",
       "\n",
       "                 age  \n",
       "count  191971.000000  \n",
       "mean       12.546557  \n",
       "std         6.724550  \n",
       "min        -3.000000  \n",
       "25%         8.000000  \n",
       "50%        13.000000  \n",
       "75%        17.000000  \n",
       "max       106.000000  "
      ]
     },
     "execution_count": 44,
     "metadata": {},
     "output_type": "execute_result"
    }
   ],
   "source": [
    "X_train.describe()"
   ]
  },
  {
   "cell_type": "markdown",
   "metadata": {},
   "source": [
    "<hr><h3>Standard scaling</h3>\n",
    "\n",
    "Scale the features before modeling to be able to compare their coefficients in the later sections"
   ]
  },
  {
   "cell_type": "code",
   "execution_count": 45,
   "metadata": {},
   "outputs": [],
   "source": [
    "#scaling our split data\n",
    "sc = ss()\n",
    "X_train = sc.fit_transform(X_train)\n",
    "X_valid = sc.transform(X_valid)\n",
    "X_test =  sc.transform(X_test)"
   ]
  },
  {
   "cell_type": "markdown",
   "metadata": {},
   "source": [
    "<hr><h3>Model selection</h3>"
   ]
  },
  {
   "cell_type": "markdown",
   "metadata": {},
   "source": [
    "We will be using the RMSE metric for best model selection"
   ]
  },
  {
   "cell_type": "markdown",
   "metadata": {},
   "source": [
    "<h3>Linear regression:</h3>"
   ]
  },
  {
   "cell_type": "code",
   "execution_count": 46,
   "metadata": {},
   "outputs": [
    {
     "data": {
      "text/plain": [
       "3077.1481854447297"
      ]
     },
     "execution_count": 46,
     "metadata": {},
     "output_type": "execute_result"
    }
   ],
   "source": [
    "LR = LinearRegression()\n",
    "start = time()\n",
    "LR.fit(X_train, y_train)\n",
    "end = time()\n",
    "fit_time_LR = end - start\n",
    "\n",
    "start = time()\n",
    "y_pred = LR.predict(X_valid)\n",
    "end = time()\n",
    "predict_time_LR = end - start\n",
    "\n",
    "LR_score = mean_squared_error(y_valid, y_pred) ** 0.5\n",
    "LR_score"
   ]
  },
  {
   "cell_type": "markdown",
   "metadata": {},
   "source": [
    "<h3>Random Forest(Base Model):</h3>"
   ]
  },
  {
   "cell_type": "code",
   "execution_count": 47,
   "metadata": {},
   "outputs": [
    {
     "data": {
      "text/plain": [
       "1633.3817331423525"
      ]
     },
     "execution_count": 47,
     "metadata": {},
     "output_type": "execute_result"
    }
   ],
   "source": [
    "RF = RandomForestRegressor()\n",
    "\n",
    "start = time()\n",
    "RF.fit(X_train, y_train)\n",
    "end = time()\n",
    "fit_time_RF = end - start\n",
    "\n",
    "start = time()\n",
    "y_pred = RF.predict(X_valid)\n",
    "end = time()\n",
    "predict_time_RF = end - start\n",
    "\n",
    "RF_score_base = mean_squared_error(y_valid, y_pred) ** 0.5\n",
    "RF_score_base"
   ]
  },
  {
   "cell_type": "markdown",
   "metadata": {},
   "source": [
    "<h3>Random Forest(Hyperparameters tuning):</h3>"
   ]
  },
  {
   "cell_type": "code",
   "execution_count": 48,
   "metadata": {},
   "outputs": [
    {
     "data": {
      "text/html": [
       "<div>\n",
       "<style scoped>\n",
       "    .dataframe tbody tr th:only-of-type {\n",
       "        vertical-align: middle;\n",
       "    }\n",
       "\n",
       "    .dataframe tbody tr th {\n",
       "        vertical-align: top;\n",
       "    }\n",
       "\n",
       "    .dataframe thead th {\n",
       "        text-align: right;\n",
       "    }\n",
       "</style>\n",
       "<table border=\"1\" class=\"dataframe\">\n",
       "  <thead>\n",
       "    <tr style=\"text-align: right;\">\n",
       "      <th></th>\n",
       "      <th>n_estimators</th>\n",
       "      <th>max_depth</th>\n",
       "      <th>RF_score_tuned</th>\n",
       "      <th>fit_time_RF_tuned</th>\n",
       "      <th>predict_time_RF_tuned</th>\n",
       "    </tr>\n",
       "  </thead>\n",
       "  <tbody>\n",
       "    <tr>\n",
       "      <th>3</th>\n",
       "      <td>500</td>\n",
       "      <td>10</td>\n",
       "      <td>1922.633916</td>\n",
       "      <td>128.437068</td>\n",
       "      <td>2.341153</td>\n",
       "    </tr>\n",
       "  </tbody>\n",
       "</table>\n",
       "</div>"
      ],
      "text/plain": [
       "   n_estimators  max_depth  RF_score_tuned  fit_time_RF_tuned  \\\n",
       "3           500         10     1922.633916         128.437068   \n",
       "\n",
       "   predict_time_RF_tuned  \n",
       "3               2.341153  "
      ]
     },
     "execution_count": 48,
     "metadata": {},
     "output_type": "execute_result"
    }
   ],
   "source": [
    "d = []\n",
    "for estim in [100, 500]:\n",
    "    for depth in [5,10]:\n",
    "        RF = RandomForestRegressor(random_state=12345, n_estimators=estim, max_depth=depth)\n",
    "        \n",
    "        start = time()\n",
    "        RF.fit(X_train, y_train)\n",
    "        end = time()\n",
    "        fit_time_RF_tuned = end - start\n",
    "        \n",
    "        start = time()\n",
    "        y_pred = RF.predict(X_valid)\n",
    "        end = time()\n",
    "        predict_time_RF_tuned = end - start\n",
    "        \n",
    "        RF_score_tuned = mean_squared_error(y_valid, y_pred) ** 0.5\n",
    "        d.append(\n",
    "            {\n",
    "                'n_estimators': estim,\n",
    "                'max_depth': depth,\n",
    "                'RF_score_tuned':  RF_score_tuned,\n",
    "                'fit_time_RF_tuned': fit_time_RF_tuned,\n",
    "                'predict_time_RF_tuned': predict_time_RF_tuned\n",
    "            }\n",
    "        )\n",
    "best_param = pd.DataFrame(d).nsmallest(1, ['RF_score_tuned'], keep='first')\n",
    "RF_score_tuned = best_param['RF_score_tuned'].values\n",
    "fit_time_RF_tuned = best_param['fit_time_RF_tuned'].values\n",
    "predict_time_RF_tuned = best_param['predict_time_RF_tuned'].values\n",
    "\n",
    "best_param"
   ]
  },
  {
   "cell_type": "markdown",
   "metadata": {},
   "source": [
    "<h3>XGBoost(base model):</h3>"
   ]
  },
  {
   "cell_type": "code",
   "execution_count": 49,
   "metadata": {},
   "outputs": [
    {
     "data": {
      "text/plain": [
       "1669.4110759282837"
      ]
     },
     "execution_count": 49,
     "metadata": {},
     "output_type": "execute_result"
    }
   ],
   "source": [
    "XGB = XGBRegressor(n_jobs=-1)\n",
    "\n",
    "start = time()\n",
    "XGB.fit(X_train, y_train)\n",
    "end = time()\n",
    "fit_time_XGB = end - start\n",
    "\n",
    "start = time()\n",
    "y_pred = XGB.predict(X_valid)\n",
    "end = time()\n",
    "predict_time_XGB = end - start\n",
    "\n",
    "XGB_score_base = mean_squared_error(y_valid, y_pred) ** 0.5\n",
    "XGB_score_base"
   ]
  },
  {
   "cell_type": "markdown",
   "metadata": {},
   "source": [
    "<h3>XGBoost(Hyperparameters tuning):</h3>"
   ]
  },
  {
   "cell_type": "code",
   "execution_count": 50,
   "metadata": {},
   "outputs": [
    {
     "data": {
      "text/html": [
       "<div>\n",
       "<style scoped>\n",
       "    .dataframe tbody tr th:only-of-type {\n",
       "        vertical-align: middle;\n",
       "    }\n",
       "\n",
       "    .dataframe tbody tr th {\n",
       "        vertical-align: top;\n",
       "    }\n",
       "\n",
       "    .dataframe thead th {\n",
       "        text-align: right;\n",
       "    }\n",
       "</style>\n",
       "<table border=\"1\" class=\"dataframe\">\n",
       "  <thead>\n",
       "    <tr style=\"text-align: right;\">\n",
       "      <th></th>\n",
       "      <th>n_estimators</th>\n",
       "      <th>max_depth</th>\n",
       "      <th>XGB_score_tuned</th>\n",
       "      <th>fit_time_XGB_tuned</th>\n",
       "      <th>predict_time_XGB_tuned</th>\n",
       "    </tr>\n",
       "  </thead>\n",
       "  <tbody>\n",
       "    <tr>\n",
       "      <th>1</th>\n",
       "      <td>100</td>\n",
       "      <td>10</td>\n",
       "      <td>1586.818972</td>\n",
       "      <td>79.613074</td>\n",
       "      <td>0.286358</td>\n",
       "    </tr>\n",
       "  </tbody>\n",
       "</table>\n",
       "</div>"
      ],
      "text/plain": [
       "   n_estimators  max_depth  XGB_score_tuned  fit_time_XGB_tuned  \\\n",
       "1           100         10      1586.818972           79.613074   \n",
       "\n",
       "   predict_time_XGB_tuned  \n",
       "1                0.286358  "
      ]
     },
     "execution_count": 50,
     "metadata": {},
     "output_type": "execute_result"
    }
   ],
   "source": [
    "d = []\n",
    "for estim in [100, 500]:\n",
    "    for depth in [5, 10]:\n",
    "        XGB = XGBRegressor(random_state=12345, n_estimators=estim, \n",
    "                                       max_depth=depth, n_jobs=-1)\n",
    "        start = time()\n",
    "        XGB.fit(X_train, y_train)\n",
    "        end = time()\n",
    "        fit_time_XGB_tuned = end - start\n",
    "        \n",
    "        start = time()\n",
    "        y_pred = XGB.predict(X_valid)\n",
    "        end = time()\n",
    "        predict_time_XGB_tuned = end - start\n",
    "        \n",
    "        XGB_score_tuned = mean_squared_error(y_valid, y_pred) ** 0.5\n",
    "        d.append(\n",
    "                        {\n",
    "                            'n_estimators': estim,\n",
    "                            'max_depth': depth,\n",
    "                            'XGB_score_tuned':  XGB_score_tuned,\n",
    "                            'fit_time_XGB_tuned': fit_time_XGB_tuned,\n",
    "                            'predict_time_XGB_tuned': predict_time_XGB_tuned\n",
    "                        }\n",
    "                    )\n",
    "\n",
    "best_param = pd.DataFrame(d).nsmallest(1, ['XGB_score_tuned'], keep='first')\n",
    "XGB_score_tuned = best_param['XGB_score_tuned'].values\n",
    "fit_time_XGB_tuned = best_param['fit_time_XGB_tuned'].values\n",
    "predict_time_XGB_tuned = best_param['predict_time_XGB_tuned'].values\n",
    "\n",
    "best_param"
   ]
  },
  {
   "cell_type": "markdown",
   "metadata": {},
   "source": [
    "<h3>LightGBM(base model):</h3>"
   ]
  },
  {
   "cell_type": "code",
   "execution_count": 51,
   "metadata": {},
   "outputs": [
    {
     "data": {
      "text/plain": [
       "1742.6192673665391"
      ]
     },
     "execution_count": 51,
     "metadata": {},
     "output_type": "execute_result"
    }
   ],
   "source": [
    "LGB = LGBMRegressor()\n",
    "\n",
    "start = time()\n",
    "LGB.fit(X_train, y_train)\n",
    "end = time()\n",
    "fit_time_LGB = end - start\n",
    "\n",
    "start = time()\n",
    "y_pred = LGB.predict(X_valid)\n",
    "end = time()\n",
    "predict_time_LGB = end - start\n",
    "\n",
    "LGB_score_base = mean_squared_error(y_valid, y_pred) ** 0.5\n",
    "LGB_score_base"
   ]
  },
  {
   "cell_type": "markdown",
   "metadata": {},
   "source": [
    "<h3>LightGBM(Hyperparameters tuning):</h3>"
   ]
  },
  {
   "cell_type": "code",
   "execution_count": 52,
   "metadata": {},
   "outputs": [
    {
     "data": {
      "text/html": [
       "<div>\n",
       "<style scoped>\n",
       "    .dataframe tbody tr th:only-of-type {\n",
       "        vertical-align: middle;\n",
       "    }\n",
       "\n",
       "    .dataframe tbody tr th {\n",
       "        vertical-align: top;\n",
       "    }\n",
       "\n",
       "    .dataframe thead th {\n",
       "        text-align: right;\n",
       "    }\n",
       "</style>\n",
       "<table border=\"1\" class=\"dataframe\">\n",
       "  <thead>\n",
       "    <tr style=\"text-align: right;\">\n",
       "      <th></th>\n",
       "      <th>n_estimators</th>\n",
       "      <th>max_depth</th>\n",
       "      <th>LGB_score_tuned</th>\n",
       "      <th>fit_time_LGB_tuned</th>\n",
       "      <th>predict_time_LGB_tuned</th>\n",
       "    </tr>\n",
       "  </thead>\n",
       "  <tbody>\n",
       "    <tr>\n",
       "      <th>3</th>\n",
       "      <td>500</td>\n",
       "      <td>10</td>\n",
       "      <td>1627.393517</td>\n",
       "      <td>19.395644</td>\n",
       "      <td>1.688881</td>\n",
       "    </tr>\n",
       "  </tbody>\n",
       "</table>\n",
       "</div>"
      ],
      "text/plain": [
       "   n_estimators  max_depth  LGB_score_tuned  fit_time_LGB_tuned  \\\n",
       "3           500         10      1627.393517           19.395644   \n",
       "\n",
       "   predict_time_LGB_tuned  \n",
       "3                1.688881  "
      ]
     },
     "execution_count": 52,
     "metadata": {},
     "output_type": "execute_result"
    }
   ],
   "source": [
    "d = []\n",
    "for estim in [100, 500]:\n",
    "    for depth in [5, 10]:\n",
    "        LGB = LGBMRegressor(random_state=12345, n_estimators=estim, \n",
    "                                       max_depth=depth)\n",
    "        start = time()\n",
    "        LGB.fit(X_train, y_train)\n",
    "        end = time()\n",
    "        fit_time_LGB_tuned = end - start\n",
    "        \n",
    "        start = time()\n",
    "        y_pred = LGB.predict(X_valid)\n",
    "        end = time()\n",
    "        predict_time_LGB_tuned = end - start\n",
    "        \n",
    "        LGB_score_tuned = mean_squared_error(y_valid, y_pred) ** 0.5\n",
    "        d.append(\n",
    "            {\n",
    "                 'n_estimators': estim,\n",
    "                  'max_depth': depth,\n",
    "                  'LGB_score_tuned':  LGB_score_tuned,\n",
    "                  'fit_time_LGB_tuned': fit_time_LGB_tuned,\n",
    "                  'predict_time_LGB_tuned': predict_time_LGB_tuned\n",
    "                        }\n",
    "                    )\n",
    "\n",
    "best_param = pd.DataFrame(d).nsmallest(1, ['LGB_score_tuned'], keep='first')\n",
    "LGB_score_tuned = best_param['LGB_score_tuned'].values\n",
    "fit_time_LGB_tuned = best_param['fit_time_LGB_tuned'].values\n",
    "predict_time_LGB_tuned = best_param['predict_time_LGB_tuned'].values\n",
    "\n",
    "best_param"
   ]
  },
  {
   "cell_type": "markdown",
   "metadata": {},
   "source": [
    "<h3>CatBoost(base model):</h3>"
   ]
  },
  {
   "cell_type": "code",
   "execution_count": 53,
   "metadata": {},
   "outputs": [
    {
     "data": {
      "text/plain": [
       "1663.1869224894342"
      ]
     },
     "execution_count": 53,
     "metadata": {},
     "output_type": "execute_result"
    }
   ],
   "source": [
    "CB = CatBoostRegressor(verbose=0)\n",
    "\n",
    "start = time()\n",
    "CB.fit(X_train, y_train)\n",
    "end = time()\n",
    "fit_time_CB = end - start\n",
    "\n",
    "start = time()\n",
    "y_pred = CB.predict(X_valid)\n",
    "end = time()\n",
    "predict_time_CB = end - start\n",
    "\n",
    "CB_score_base = mean_squared_error(y_valid, y_pred) ** 0.5\n",
    "CB_score_base"
   ]
  },
  {
   "cell_type": "markdown",
   "metadata": {},
   "source": [
    "<h3>CatBoost(Hyperparameters tuning):</h3>"
   ]
  },
  {
   "cell_type": "code",
   "execution_count": 54,
   "metadata": {},
   "outputs": [
    {
     "data": {
      "text/html": [
       "<div>\n",
       "<style scoped>\n",
       "    .dataframe tbody tr th:only-of-type {\n",
       "        vertical-align: middle;\n",
       "    }\n",
       "\n",
       "    .dataframe tbody tr th {\n",
       "        vertical-align: top;\n",
       "    }\n",
       "\n",
       "    .dataframe thead th {\n",
       "        text-align: right;\n",
       "    }\n",
       "</style>\n",
       "<table border=\"1\" class=\"dataframe\">\n",
       "  <thead>\n",
       "    <tr style=\"text-align: right;\">\n",
       "      <th></th>\n",
       "      <th>n_estimators</th>\n",
       "      <th>depth</th>\n",
       "      <th>CB_score_tuned</th>\n",
       "      <th>fit_time_CB_tuned</th>\n",
       "      <th>predict_time_CB_tuned</th>\n",
       "    </tr>\n",
       "  </thead>\n",
       "  <tbody>\n",
       "    <tr>\n",
       "      <th>3</th>\n",
       "      <td>500</td>\n",
       "      <td>10</td>\n",
       "      <td>1596.409006</td>\n",
       "      <td>27.413223</td>\n",
       "      <td>0.09944</td>\n",
       "    </tr>\n",
       "  </tbody>\n",
       "</table>\n",
       "</div>"
      ],
      "text/plain": [
       "   n_estimators  depth  CB_score_tuned  fit_time_CB_tuned  \\\n",
       "3           500     10     1596.409006          27.413223   \n",
       "\n",
       "   predict_time_CB_tuned  \n",
       "3                0.09944  "
      ]
     },
     "execution_count": 54,
     "metadata": {},
     "output_type": "execute_result"
    }
   ],
   "source": [
    "d = []\n",
    "for iterations in [100, 500]:\n",
    "    for depth in [5, 10]:\n",
    "        CB = CatBoostRegressor(random_state=12345, iterations=iterations, \n",
    "                                       depth=depth, verbose=0)\n",
    "        start = time()\n",
    "        CB.fit(X_train, y_train)\n",
    "        end = time()\n",
    "        fit_time_CB_tuned = end - start\n",
    "        \n",
    "        start = time()\n",
    "        y_pred = CB.predict(X_valid)\n",
    "        end = time()\n",
    "        predict_time_CB_tuned = end - start\n",
    "        \n",
    "        CB_score_tuned = mean_squared_error(y_valid, y_pred) ** 0.5\n",
    "        d.append(\n",
    "            {\n",
    "                            'n_estimators': estim,\n",
    "                            'depth': depth,\n",
    "                            'CB_score_tuned':  CB_score_tuned,\n",
    "                            'fit_time_CB_tuned': fit_time_CB_tuned,\n",
    "                            'predict_time_CB_tuned': predict_time_CB_tuned\n",
    "                        }\n",
    "                    )\n",
    "\n",
    "best_param = pd.DataFrame(d).nsmallest(1, ['CB_score_tuned'], keep='first')\n",
    "CB_score_tuned = best_param['CB_score_tuned'].values\n",
    "fit_time_CB_tuned = best_param['fit_time_CB_tuned'].values\n",
    "predict_time_CB_tuned = best_param['predict_time_CB_tuned'].values\n",
    "\n",
    "best_param"
   ]
  },
  {
   "cell_type": "markdown",
   "metadata": {},
   "source": [
    "<h2>Result:</h2>"
   ]
  },
  {
   "cell_type": "code",
   "execution_count": 55,
   "metadata": {},
   "outputs": [],
   "source": [
    "#let's compere our models total result\n",
    "models = pd.DataFrame({\n",
    "    'Model': ['LR', 'RF_base', 'XGB_base', 'LGB_base', 'CB_base','RF_tuned', 'XGB_tuned', 'LGB_tuned', 'CB_tuned'],\n",
    "    'Score': [LR_score, RF_score_base, XGB_score_base, LGB_score_base, CB_score_base,\n",
    "             RF_score_tuned, XGB_score_tuned, LGB_score_tuned, CB_score_tuned],\n",
    "    'Training_time': [fit_time_LR, fit_time_RF, fit_time_XGB, fit_time_LGB, fit_time_CB, fit_time_RF_tuned,\n",
    "             fit_time_XGB_tuned, fit_time_LGB_tuned, fit_time_CB_tuned],\n",
    "    'Prediction_time': [predict_time_LR, predict_time_RF, predict_time_XGB, predict_time_LGB, predict_time_CB, \n",
    "                        predict_time_RF_tuned,\n",
    "             predict_time_XGB_tuned, predict_time_LGB_tuned, predict_time_CB_tuned]})"
   ]
  },
  {
   "cell_type": "code",
   "execution_count": 56,
   "metadata": {},
   "outputs": [
    {
     "data": {
      "image/png": "[encoded data removed]",
      "text/plain": [
       "<Figure size 1080x360 with 3 Axes>"
      ]
     },
     "metadata": {},
     "output_type": "display_data"
    }
   ],
   "source": [
    "fig, axs = plt.subplots(1,3,figsize=(15,5)) \n",
    "fig.suptitle('Comparison of Machine Learning Algorithms', fontsize=15)\n",
    "\n",
    "labels = models.sort_values(by='Score')['Model']\n",
    "values = models.sort_values(by='Score')['Score']\n",
    "axs[0].bar(labels, values, color = 'g')\n",
    "axs[0].set_xticklabels(labels, rotation='vertical')\n",
    "axs[0].set_title('RMSE score')\n",
    "\n",
    "labels = models.sort_values(by='Training_time')['Model']\n",
    "values = models.sort_values(by='Training_time')['Training_time']\n",
    "axs[1].bar(labels, values, color = 'b')\n",
    "axs[1].set_xticklabels(labels, rotation='vertical')\n",
    "axs[1].set_title('Training time')\n",
    "\n",
    "labels = models.sort_values(by='Prediction_time')['Model']\n",
    "values = models.sort_values(by='Prediction_time')['Prediction_time']\n",
    "axs[2].bar(labels, values, color = 'orange')\n",
    "axs[2].set_xticklabels(labels, rotation='vertical')\n",
    "axs[2].set_title('Prediction time');"
   ]
  },
  {
   "cell_type": "markdown",
   "metadata": {},
   "source": [
    "<hr>\n",
    "<center>Summary results by different models</center>\n",
    "\n",
    "|      Model      | n_estimators |  max_depth   |    score     |   fit_time   | predict_time |      tuning       |\n",
    "|-----------------|--------------|--------------|--------------|--------------|--------------|-------------------|\n",
    "|Linear regression|              |              |   3077.14    |              |              |    Base Model     |\n",
    "|Random Forest    |              |              |   1633.38    |              |              |    Base Model     |\n",
    "|Random Forest    |     500      |       10     |   1922.63    |    128.43    |     2.34     |  Hyper parameters |\n",
    "|XGBoost          |              |              |   1669.41    |              |              |    Base Model     |\n",
    "|XGBoost          |     100      |       10     |   1586.81    |     79.61    |     0.28     |  Hyper parameters |\n",
    "|LightGBM         |              |              |   1742.61    |              |              |    Base Model     |\n",
    "|LightGBM         |     500      |       10     |   1627.39    |     19.39    |     1.68     |  Hyper parameters |\n",
    "|CatBoost         |              |              |   1663.18    |              |              |    Base Model     |\n",
    "|CatBoost         |     500      |       10     |   1596.40    |     27.41    |     0.09     |  Hyperparameters  |\n",
    "\n",
    "\n",
    "The best score is **XGB_tuned** but is fit time and predict_time isn't the overall best, when we compere it to **CatBoost tuned** that get score little bit less but the fit time and predict_time much faster and since our test was to see the overall model that offer best score and fast time we choice the the **CatBoost tuned** as the final model. "
   ]
  },
  {
   "cell_type": "code",
   "execution_count": 57,
   "metadata": {},
   "outputs": [
    {
     "data": {
      "text/html": [
       "<div>\n",
       "<style scoped>\n",
       "    .dataframe tbody tr th:only-of-type {\n",
       "        vertical-align: middle;\n",
       "    }\n",
       "\n",
       "    .dataframe tbody tr th {\n",
       "        vertical-align: top;\n",
       "    }\n",
       "\n",
       "    .dataframe thead th {\n",
       "        text-align: right;\n",
       "    }\n",
       "</style>\n",
       "<table border=\"1\" class=\"dataframe\">\n",
       "  <thead>\n",
       "    <tr style=\"text-align: right;\">\n",
       "      <th></th>\n",
       "      <th>n_estimators</th>\n",
       "      <th>depth</th>\n",
       "      <th>CB_score_tuned</th>\n",
       "      <th>learning_rate</th>\n",
       "      <th>fit_time_CB_tuned</th>\n",
       "      <th>predict_time_CB_tuned</th>\n",
       "    </tr>\n",
       "  </thead>\n",
       "  <tbody>\n",
       "    <tr>\n",
       "      <th>11</th>\n",
       "      <td>500</td>\n",
       "      <td>16</td>\n",
       "      <td>1571.029173</td>\n",
       "      <td>0.1</td>\n",
       "      <td>639.670208</td>\n",
       "      <td>0.328562</td>\n",
       "    </tr>\n",
       "  </tbody>\n",
       "</table>\n",
       "</div>"
      ],
      "text/plain": [
       "    n_estimators  depth  CB_score_tuned  learning_rate  fit_time_CB_tuned  \\\n",
       "11           500     16     1571.029173            0.1         639.670208   \n",
       "\n",
       "    predict_time_CB_tuned  \n",
       "11               0.328562  "
      ]
     },
     "execution_count": 57,
     "metadata": {},
     "output_type": "execute_result"
    }
   ],
   "source": [
    "d = []\n",
    "for iterations in [100, 500]:\n",
    "    for depth in [10, 16]:\n",
    "        for learning_rate in [0.01, 0.05, 0.1]:\n",
    "            CB = CatBoostRegressor(random_state=12345, iterations=iterations, \n",
    "                                           depth=depth, learning_rate=learning_rate, verbose=0)\n",
    "            start = time()\n",
    "            CB.fit(X_train, y_train)\n",
    "            end = time()\n",
    "            fit_time_CB_tuned = end - start\n",
    "\n",
    "            start = time()\n",
    "            y_pred = CB.predict(X_valid)\n",
    "            end = time()\n",
    "            predict_time_CB_tuned = end - start\n",
    "\n",
    "            CB_score_tuned = mean_squared_error(y_valid, y_pred) ** 0.5\n",
    "            d.append(\n",
    "                {\n",
    "                            'n_estimators': estim,\n",
    "                            'depth': depth,\n",
    "                            'CB_score_tuned':  CB_score_tuned,\n",
    "                            'learning_rate': learning_rate,\n",
    "                            'fit_time_CB_tuned': fit_time_CB_tuned,\n",
    "                            'predict_time_CB_tuned': predict_time_CB_tuned\n",
    "                        }\n",
    "                    )\n",
    "\n",
    "best_param = pd.DataFrame(d).nsmallest(1, ['CB_score_tuned'], keep='first')\n",
    "CB_score_tuned = best_param['CB_score_tuned'].values\n",
    "fit_time_CB_tuned = best_param['fit_time_CB_tuned'].values\n",
    "predict_time_CB_tuned = best_param['predict_time_CB_tuned'].values\n",
    "learning_rate = best_param['learning_rate'].values\n",
    "\n",
    "best_param"
   ]
  },
  {
   "cell_type": "markdown",
   "metadata": {},
   "source": [
    "Our score improved slightly while the training time has increased several folds. Since the speed is important in this task, let's keep the model with the default learning rate. Finally, we will test our model on the test set."
   ]
  },
  {
   "cell_type": "code",
   "execution_count": 58,
   "metadata": {},
   "outputs": [
    {
     "data": {
      "text/plain": [
       "1582.2337836162137"
      ]
     },
     "execution_count": 58,
     "metadata": {},
     "output_type": "execute_result"
    }
   ],
   "source": [
    "CB = CatBoostRegressor(random_state=12345, iterations=500,depth=10, verbose=0)\n",
    "CB.fit(X_train, y_train)\n",
    "y_pred = CB.predict(X_test)\n",
    "CB_score_test = mean_squared_error(y_test, y_pred) ** 0.5\n",
    "CB_score_test"
   ]
  },
  {
   "cell_type": "markdown",
   "metadata": {},
   "source": [
    "Both validation and test scores are close to each other, we do not observe overfitting"
   ]
  },
  {
   "cell_type": "markdown",
   "metadata": {},
   "source": [
    "<h2>Retrain the best tuned model:</h2>"
   ]
  },
  {
   "cell_type": "code",
   "execution_count": 59,
   "metadata": {},
   "outputs": [],
   "source": [
    "X = rb.drop('price', axis=1)\n",
    "y = rb['price']\n",
    "X_train, X_test, y_train, y_test = train_test_split(X, y, test_size = 0.25, random_state=12345)\n",
    "\n",
    "X_train = sc.fit_transform(X_train)\n",
    "X_test = sc.transform(X_test)"
   ]
  },
  {
   "cell_type": "code",
   "execution_count": 60,
   "metadata": {},
   "outputs": [
    {
     "name": "stdout",
     "output_type": "stream",
     "text": [
      "test RMSE score, eur: 1571.0\n",
      "Training time, sec: 32.0\n",
      "Prediction time, sec: 0.15\n"
     ]
    }
   ],
   "source": [
    "CB_final = CatBoostRegressor(random_state=12345, iterations=500,depth=10, verbose=0)\n",
    "start = time()\n",
    "CB_final.fit(X_train, y_train)\n",
    "end = time()\n",
    "fit_time_final = end - start\n",
    "\n",
    "start = time()\n",
    "y_pred = CB_final.predict(X_test)\n",
    "end = time()\n",
    "predict_time_final = end - start\n",
    "\n",
    "CB_final_score_test = mean_squared_error(y_test, y_pred) ** 0.5\n",
    "print('test RMSE score, eur:', round(CB_final_score_test,0))\n",
    "print('Training time, sec:', round(fit_time_final,0))\n",
    "print('Prediction time, sec:', round(predict_time_final,2))"
   ]
  },
  {
   "cell_type": "markdown",
   "metadata": {},
   "source": [
    "Slightly improved due the bigger train set"
   ]
  },
  {
   "cell_type": "markdown",
   "metadata": {},
   "source": [
    "<hr><h2>Sanity check:</h2>"
   ]
  },
  {
   "cell_type": "code",
   "execution_count": 61,
   "metadata": {},
   "outputs": [
    {
     "data": {
      "text/plain": [
       "3098.4311533568753"
      ]
     },
     "execution_count": 61,
     "metadata": {},
     "output_type": "execute_result"
    }
   ],
   "source": [
    "LR.fit(X_train, y_train)\n",
    "y_pred = LR.predict(X_test)\n",
    "LR_score_test = mean_squared_error(y_test, y_pred) ** 0.5\n",
    "LR_score_test"
   ]
  },
  {
   "cell_type": "code",
   "execution_count": 62,
   "metadata": {},
   "outputs": [
    {
     "data": {
      "text/plain": [
       "43.54"
      ]
     },
     "execution_count": 62,
     "metadata": {},
     "output_type": "execute_result"
    }
   ],
   "source": [
    "round((2698.7226521074763-1523.6258860003888)/2698.7226521074763 * 100, 2)"
   ]
  },
  {
   "cell_type": "markdown",
   "metadata": {},
   "source": [
    "Our test score base Linear regression model, is higher than our final model by 43.54%, this means that our modeling choice is useful and better"
   ]
  },
  {
   "cell_type": "markdown",
   "metadata": {},
   "source": [
    "<hr><div id=\"general_conclusion\"><h2>General conclusion:</h2></div>  "
   ]
  },
  {
   "cell_type": "markdown",
   "metadata": {},
   "source": [
    "<b><u>INTRODUCTION</u></b>\n",
    "\n",
    "Rusty Bargain used car sales service is developing an app to attract new customers. In that app, you can quickly find out the market value of your car. You have access to historical data: technical specifications, trim versions, and prices. You need to build the model to determine the value. \n",
    "\n",
    "Rusty Bargain is interested in:\n",
    "\n",
    "- the quality of the prediction;\n",
    "- the speed of the prediction;\n",
    "- the time required for training\n",
    "\n",
    "<hr><h2>Data description</h2>\n",
    "\n",
    "<b style=\"font-size: 14px;\">Number of `rows`:35k</b>\n",
    "\n",
    "<b style=\"font-size: 14px;\">Number of `cols`:16</b>\n",
    "\n",
    "<br>\n",
    "\n",
    "**Features**\n",
    "\n",
    "- `DateCrawled` - date profile was downloaded from the database\n",
    "\n",
    "\n",
    "- `VehicleType` - vehicle body type\n",
    "\n",
    "\n",
    "- `RegistrationYear` - vehicle registration year\n",
    "\n",
    "\n",
    "- `Gearbox` - gearbox type\n",
    "\n",
    "\n",
    "- `Power` - power (horse power)\n",
    "\n",
    "\n",
    "- `Model` - vehicle model\n",
    "\n",
    "\n",
    "- `Mileage` - mileage (Total miles covered by this vehicle since new)\n",
    "\n",
    "\n",
    "- `RegistrationMonth` - vehicle registration month\n",
    "\n",
    "\n",
    "- `FuelType` - fuel type\n",
    "\n",
    "\n",
    "- `Brand` - vehicle brand\n",
    "\n",
    "\n",
    "- `NotRepaired` - vehicle repaired or not\n",
    "\n",
    "\n",
    "- `DateCreated` - date of profile creation\n",
    "\n",
    "\n",
    "- `NumberOfPictures` - number of vehicle pictures\n",
    "\n",
    "\n",
    "- `PostalCode` - postal code of profile owner (user)\n",
    "\n",
    "\n",
    "- `LastSeen` - date of the last activity of the user\n",
    "\n",
    "<br>\n",
    "\n",
    "**Target**\n",
    "\n",
    "`Price` - price (Euro)\n",
    "\n",
    "<br>\n",
    "\n",
    "**Missing values**\n",
    "\n",
    "yes in 5 columns: `VehicleType`, `gearbox`, `Model`, `fuel_type`, `NotRepaired`\n",
    "\n",
    "<br>\n",
    "\n",
    "**Duplicates**\n",
    "\n",
    "yes 262 rows \n",
    "\n",
    "<br>\n",
    "\n",
    "**Dtype issue**\n",
    "\n",
    "it's recommend that we going to change our columns : `date_crawled`,`date_created`,`last_seen` to datetime\n",
    "\n",
    "<br>\n",
    "<b><u>What we notice in our data:</u></b>\n",
    "\n",
    "- That the values of `Power` column is mix of values that can be split into 3 : \n",
    "  - (1) real horse power 50 - 600 hp (we choice this as borderline)\n",
    "  - (2) lower or values that can't be correct under 50hp \n",
    "  - (3) values that our engine size AKA 'cc', like skoda octavia that show in power column 1600 as value \n",
    "<br> <br> \n",
    "- Our data `postal code` does not have the ability to present a significant figure that would show an advantage of the locations of one vehicle over another This is due to the fact that it is a European data that we do not know from which country . if it was from USA we can tell country 'x' is a drier one and then there is no rust, or a vehicle from a country where there is high humidity and the chance of rust, we remove it before we train our model.\n",
    "<br><br>\n",
    "- `NumberOfPictures`, this could impact the price but since all the rows in this column is '0' , so no impact and we can say this column not bring noting this way we remove it in before we start to train our model.\n",
    "<br><br>\n",
    "- 5 columns with missing values: `VehicleType`, `gearbox`, `Model`, `fuel_type`, `NotRepaired`\n",
    "<br><br>\n",
    "- 262 rows of duplicates that will be remove\n",
    "<br><br>\n",
    "- change the date columns `date_crawled`,`date_created`,`last_seen` into datetime format\n",
    "<br><br>\n",
    "- In `FuelType` , found the same type of fuel in different pronunciation petrol and gasoline\n",
    "\n",
    "\n",
    "- `RegistrationYear` as min value of 1000 and max is 9999 , after we check it we found that everything above 2019 is incorrect data for year value\n",
    "\n",
    "We rename the column titles to short one and we lower case them , fill the missing values and drop values and columns that we didn't need for our next steps.\n",
    "\n",
    "- **EDA** : We checked for outliers in 5 variables, created a new featured (`age`) and dropped non-informative columns\n",
    "\n",
    "\n",
    "- **Encoding of categorical variables**: we use ordinal encoding for categorical features when using random forest/decision tree/gradient boosting\n",
    "\n",
    "\n",
    "- **Splitting data into train, validation and test sets**. Data was split into 3 sets to perform best model selection\n",
    "\n",
    "\n",
    "- **Standard scaling**\n",
    "\n",
    "\n",
    "- **Model selection** : We compared Linear Regression, Random Forest, XGBoost, LightGBM and CatBoost models. tuned a few hyperparameters for these algorithms and choose the **CatBoost tuned model** as the based on RMSE score and training and prediction speed\n",
    "\n",
    "\n",
    "- **Retrain the best tuned model**. Our best model was retrained on the whole training data set in order to increase the volume of data it can learn from. The test score has slightly improved thanks to this step\n",
    "\n",
    "\n",
    "\n",
    "- **Sanity check**. The test score of the Linear regression model, that we use as a baseline to analyze the model quality, is `43.54%` higher than our final model. It means that the modeling was useful and better\n",
    "\n",
    "   \n",
    "The CatBoost model with the tuned hyperparameters has shown the best results (**test RMSE of 1571, time of training 32 seconds, time of prediction 0.15 seconds**) in terms of both quality and speed of training and prediction"
   ]
  },
  {
   "cell_type": "markdown",
   "metadata": {},
   "source": [
    "<h2>Overall conclusion:</h2>\n",
    "\n",
    "The goal of this project was to **develop a model to determine the market value of a car based on historical data**. The model had to have a good quality and high offline (training) and online (prediction) speed:\n",
    "\n",
    "Therefore, we recommend to **Rusty Bargain used car sales service** our choice **CatBoost model tuned** hyperparameters that shown the best results : RMSE of 1571, fit time of 32sec and time of prediction of 0.15 sec in terms of quality and speed this is the best model in our project "
   ]
  },
  {
   "cell_type": "markdown",
   "metadata": {},
   "source": [
    "# Checklist"
   ]
  },
  {
   "cell_type": "markdown",
   "metadata": {},
   "source": [
    "Type 'x' to check. Then press Shift+Enter."
   ]
  },
  {
   "cell_type": "markdown",
   "metadata": {},
   "source": [
    "- [x]  Jupyter Notebook is open\n",
    "- [x]  Code is error free\n",
    "- [x]  The cells with the code have been arranged in order of execution\n",
    "- [x]  The data has been downloaded and prepared\n",
    "- [x]  The models have been trained\n",
    "- [x]  The analysis of speed and quality of the models has been performed"
   ]
  }
 ],
 "metadata": {
  "ExecuteTimeLog": [
   {
    "duration": 2140,
    "start_time": "2022-07-25T15:39:10.286Z"
   },
   {
    "duration": 2518,
    "start_time": "2022-07-25T15:39:12.429Z"
   },
   {
    "duration": 17,
    "start_time": "2022-07-25T15:39:14.950Z"
   },
   {
    "duration": 2504,
    "start_time": "2022-07-25T15:39:14.969Z"
   },
   {
    "duration": 5,
    "start_time": "2022-07-25T15:39:17.475Z"
   },
   {
    "duration": 1753,
    "start_time": "2022-07-25T15:39:17.482Z"
   },
   {
    "duration": 294,
    "start_time": "2022-07-25T15:39:19.237Z"
   },
   {
    "duration": 622,
    "start_time": "2022-07-25T15:39:19.533Z"
   },
   {
    "duration": 102,
    "start_time": "2022-07-25T15:39:20.157Z"
   },
   {
    "duration": 36,
    "start_time": "2022-07-25T15:39:20.262Z"
   },
   {
    "duration": 57,
    "start_time": "2022-07-25T15:39:20.310Z"
   },
   {
    "duration": 93,
    "start_time": "2022-07-25T15:39:20.368Z"
   },
   {
    "duration": 62,
    "start_time": "2022-07-25T15:39:20.463Z"
   },
   {
    "duration": 117,
    "start_time": "2022-07-25T15:39:20.527Z"
   },
   {
    "duration": 35,
    "start_time": "2022-07-25T15:39:20.646Z"
   },
   {
    "duration": 43,
    "start_time": "2022-07-25T15:39:20.683Z"
   },
   {
    "duration": 39,
    "start_time": "2022-07-25T15:39:20.728Z"
   },
   {
    "duration": 813,
    "start_time": "2022-07-25T15:39:20.769Z"
   },
   {
    "duration": 11,
    "start_time": "2022-07-25T15:39:21.584Z"
   },
   {
    "duration": 33,
    "start_time": "2022-07-25T15:39:21.611Z"
   },
   {
    "duration": 838,
    "start_time": "2022-07-25T15:39:21.646Z"
   },
   {
    "duration": 6,
    "start_time": "2022-07-25T15:39:22.485Z"
   },
   {
    "duration": 17,
    "start_time": "2022-07-25T15:39:22.493Z"
   },
   {
    "duration": 10,
    "start_time": "2022-07-25T15:39:22.512Z"
   },
   {
    "duration": 12,
    "start_time": "2022-07-25T15:39:22.523Z"
   },
   {
    "duration": 36,
    "start_time": "2022-07-25T15:39:22.537Z"
   },
   {
    "duration": 1625,
    "start_time": "2022-07-25T15:39:22.575Z"
   },
   {
    "duration": 262,
    "start_time": "2022-07-25T15:39:24.204Z"
   },
   {
    "duration": 6,
    "start_time": "2022-07-25T15:39:24.468Z"
   },
   {
    "duration": 26,
    "start_time": "2022-07-25T15:39:24.476Z"
   },
   {
    "duration": 45,
    "start_time": "2022-07-25T15:39:24.511Z"
   },
   {
    "duration": 814,
    "start_time": "2022-07-25T15:39:24.558Z"
   },
   {
    "duration": 43,
    "start_time": "2022-07-25T15:39:25.374Z"
   },
   {
    "duration": 837,
    "start_time": "2022-07-25T15:39:25.419Z"
   },
   {
    "duration": 821,
    "start_time": "2022-07-25T15:39:26.258Z"
   },
   {
    "duration": 38,
    "start_time": "2022-07-25T15:39:27.081Z"
   },
   {
    "duration": 14,
    "start_time": "2022-07-25T15:39:27.121Z"
   },
   {
    "duration": 13,
    "start_time": "2022-07-25T15:39:27.136Z"
   },
   {
    "duration": 14,
    "start_time": "2022-07-25T15:39:27.150Z"
   },
   {
    "duration": 1031,
    "start_time": "2022-07-25T15:39:27.165Z"
   },
   {
    "duration": 18,
    "start_time": "2022-07-25T15:39:28.198Z"
   },
   {
    "duration": 63,
    "start_time": "2022-07-25T15:39:28.218Z"
   },
   {
    "duration": 55,
    "start_time": "2022-07-25T15:39:28.283Z"
   },
   {
    "duration": 118,
    "start_time": "2022-07-25T15:39:28.340Z"
   },
   {
    "duration": 68,
    "start_time": "2022-07-25T15:39:28.460Z"
   },
   {
    "duration": 182,
    "start_time": "2022-07-25T15:39:28.530Z"
   },
   {
    "duration": 47682,
    "start_time": "2022-07-25T15:39:28.714Z"
   },
   {
    "duration": 249469,
    "start_time": "2022-07-25T15:40:16.398Z"
   },
   {
    "duration": 42942,
    "start_time": "2022-07-25T15:44:25.869Z"
   },
   {
    "duration": 661755,
    "start_time": "2022-07-25T15:45:08.813Z"
   },
   {
    "duration": 4945,
    "start_time": "2022-07-25T15:56:10.570Z"
   },
   {
    "duration": 44516,
    "start_time": "2022-07-25T15:56:15.517Z"
   },
   {
    "duration": 28539,
    "start_time": "2022-07-25T15:57:00.035Z"
   },
   {
    "duration": 49440,
    "start_time": "2022-07-25T15:57:28.576Z"
   },
   {
    "duration": 5,
    "start_time": "2022-07-25T15:58:18.017Z"
   },
   {
    "duration": 503,
    "start_time": "2022-07-25T15:58:18.024Z"
   },
   {
    "duration": 1808,
    "start_time": "2022-07-25T16:02:29.267Z"
   },
   {
    "duration": 799,
    "start_time": "2022-07-25T16:02:31.078Z"
   },
   {
    "duration": 13,
    "start_time": "2022-07-25T16:02:31.880Z"
   },
   {
    "duration": 2453,
    "start_time": "2022-07-25T16:02:31.895Z"
   },
   {
    "duration": 5,
    "start_time": "2022-07-25T16:02:34.350Z"
   },
   {
    "duration": 1825,
    "start_time": "2022-07-25T16:02:34.357Z"
   },
   {
    "duration": 287,
    "start_time": "2022-07-25T16:02:36.184Z"
   },
   {
    "duration": 610,
    "start_time": "2022-07-25T16:02:36.473Z"
   },
   {
    "duration": 102,
    "start_time": "2022-07-25T16:02:37.085Z"
   },
   {
    "duration": 41,
    "start_time": "2022-07-25T16:02:37.190Z"
   },
   {
    "duration": 56,
    "start_time": "2022-07-25T16:02:37.233Z"
   },
   {
    "duration": 73,
    "start_time": "2022-07-25T16:02:37.290Z"
   },
   {
    "duration": 71,
    "start_time": "2022-07-25T16:02:37.365Z"
   },
   {
    "duration": 115,
    "start_time": "2022-07-25T16:02:37.437Z"
   },
   {
    "duration": 58,
    "start_time": "2022-07-25T16:02:37.555Z"
   },
   {
    "duration": 44,
    "start_time": "2022-07-25T16:02:37.615Z"
   },
   {
    "duration": 36,
    "start_time": "2022-07-25T16:02:37.661Z"
   },
   {
    "duration": 821,
    "start_time": "2022-07-25T16:02:37.699Z"
   },
   {
    "duration": 11,
    "start_time": "2022-07-25T16:02:38.522Z"
   },
   {
    "duration": 41,
    "start_time": "2022-07-25T16:02:38.534Z"
   },
   {
    "duration": 764,
    "start_time": "2022-07-25T16:02:38.577Z"
   },
   {
    "duration": 6,
    "start_time": "2022-07-25T16:02:39.343Z"
   },
   {
    "duration": 10,
    "start_time": "2022-07-25T16:02:39.351Z"
   },
   {
    "duration": 11,
    "start_time": "2022-07-25T16:02:39.363Z"
   },
   {
    "duration": 36,
    "start_time": "2022-07-25T16:02:39.376Z"
   },
   {
    "duration": 36,
    "start_time": "2022-07-25T16:02:39.414Z"
   },
   {
    "duration": 1641,
    "start_time": "2022-07-25T16:02:39.452Z"
   },
   {
    "duration": 232,
    "start_time": "2022-07-25T16:02:41.109Z"
   },
   {
    "duration": 7,
    "start_time": "2022-07-25T16:02:41.344Z"
   },
   {
    "duration": 15,
    "start_time": "2022-07-25T16:02:41.353Z"
   },
   {
    "duration": 76,
    "start_time": "2022-07-25T16:02:41.370Z"
   },
   {
    "duration": 866,
    "start_time": "2022-07-25T16:02:41.448Z"
   },
   {
    "duration": 33,
    "start_time": "2022-07-25T16:02:42.316Z"
   },
   {
    "duration": 860,
    "start_time": "2022-07-25T16:02:42.350Z"
   },
   {
    "duration": 880,
    "start_time": "2022-07-25T16:02:43.212Z"
   },
   {
    "duration": 39,
    "start_time": "2022-07-25T16:02:44.093Z"
   },
   {
    "duration": 14,
    "start_time": "2022-07-25T16:02:44.134Z"
   },
   {
    "duration": 12,
    "start_time": "2022-07-25T16:02:44.149Z"
   },
   {
    "duration": 43,
    "start_time": "2022-07-25T16:02:44.162Z"
   },
   {
    "duration": 1105,
    "start_time": "2022-07-25T16:02:44.207Z"
   },
   {
    "duration": 18,
    "start_time": "2022-07-25T16:02:45.314Z"
   },
   {
    "duration": 82,
    "start_time": "2022-07-25T16:02:45.333Z"
   },
   {
    "duration": 45,
    "start_time": "2022-07-25T16:02:45.417Z"
   },
   {
    "duration": 125,
    "start_time": "2022-07-25T16:02:45.463Z"
   },
   {
    "duration": 66,
    "start_time": "2022-07-25T16:02:45.590Z"
   },
   {
    "duration": 67,
    "start_time": "2022-07-25T16:02:45.658Z"
   },
   {
    "duration": 48636,
    "start_time": "2022-07-25T16:02:45.811Z"
   },
   {
    "duration": 247081,
    "start_time": "2022-07-25T16:03:34.449Z"
   },
   {
    "duration": 40886,
    "start_time": "2022-07-25T16:07:41.532Z"
   },
   {
    "duration": 685021,
    "start_time": "2022-07-25T16:08:22.420Z"
   },
   {
    "duration": 4970,
    "start_time": "2022-07-25T16:19:47.443Z"
   },
   {
    "duration": 52112,
    "start_time": "2022-07-25T16:19:52.415Z"
   },
   {
    "duration": 29294,
    "start_time": "2022-07-25T16:20:44.529Z"
   },
   {
    "duration": 50366,
    "start_time": "2022-07-25T16:21:13.825Z"
   },
   {
    "duration": 5,
    "start_time": "2022-07-25T16:22:04.193Z"
   },
   {
    "duration": 494,
    "start_time": "2022-07-25T16:22:04.200Z"
   },
   {
    "duration": 2354481,
    "start_time": "2022-07-25T16:22:04.696Z"
   },
   {
    "duration": 27488,
    "start_time": "2022-07-25T17:01:19.179Z"
   },
   {
    "duration": 114,
    "start_time": "2022-07-25T17:01:46.669Z"
   },
   {
    "duration": 32422,
    "start_time": "2022-07-25T17:01:46.785Z"
   },
   {
    "duration": 103,
    "start_time": "2022-07-25T17:02:19.209Z"
   },
   {
    "duration": 92,
    "start_time": "2022-07-25T17:02:19.320Z"
   },
   {
    "duration": 77,
    "start_time": "2022-07-25T19:17:15.845Z"
   }
  ],
  "hide_input": false,
  "kernelspec": {
   "display_name": "Python 3 (ipykernel)",
   "language": "python",
   "name": "python3"
  },
  "language_info": {
   "codemirror_mode": {
    "name": "ipython",
    "version": 3
   },
   "file_extension": ".py",
   "mimetype": "text/x-python",
   "name": "python",
   "nbconvert_exporter": "python",
   "pygments_lexer": "ipython3",
   "version": "3.10.4"
  },
  "toc": {
   "base_numbering": 1,
   "nav_menu": {},
   "number_sections": false,
   "sideBar": true,
   "skip_h1_title": false,
   "title_cell": "Table of Contents",
   "title_sidebar": "Contents",
   "toc_cell": false,
   "toc_position": {},
   "toc_section_display": true,
   "toc_window_display": false
  },
  "varInspector": {
   "cols": {
    "lenName": 16,
    "lenType": 16,
    "lenVar": 40
   },
   "kernels_config": {
    "python": {
     "delete_cmd_postfix": "",
     "delete_cmd_prefix": "del ",
     "library": "var_list.py",
     "varRefreshCmd": "print(var_dic_list())"
    },
    "r": {
     "delete_cmd_postfix": ") ",
     "delete_cmd_prefix": "rm(",
     "library": "var_list.r",
     "varRefreshCmd": "cat(var_dic_list()) "
    }
   },
   "types_to_exclude": [
    "module",
    "function",
    "builtin_function_or_method",
    "instance",
    "_Feature"
   ],
   "window_display": false
  }
 },
 "nbformat": 4,
 "nbformat_minor": 2
}
